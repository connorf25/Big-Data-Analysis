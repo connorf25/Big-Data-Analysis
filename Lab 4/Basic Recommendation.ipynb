{
 "cells": [
  {
   "cell_type": "code",
   "execution_count": 11,
   "metadata": {},
   "outputs": [],
   "source": [
    "import pandas as pd\n",
    "import matplotlib.pyplot as plt\n",
    "import numpy as np\n",
    "import math"
   ]
  },
  {
   "cell_type": "code",
   "execution_count": 23,
   "metadata": {},
   "outputs": [],
   "source": [
    "import math\n",
    "def correlation_similarity(v1,v2):\n",
    "    v1 = v1 - np.nanmean(v1)\n",
    "    v2 = v2 - np.nanmean(v2)\n",
    "    \"compute similarity of v1 to v2: (v1 dot v2)/{||v1||*||v2||)\"\n",
    "    sumxx, sumxy, sumyy = 0, 0, 0\n",
    "    for i in range(len(v1)):\n",
    "        x = v1[i]; y = v2[i]\n",
    "        if np.isnan(x) or np.isnan(y) or x == 0 or y ==0: continue\n",
    "        sumxx += x*x\n",
    "        sumyy += y*y\n",
    "        sumxy += x*y\n",
    "    if sumxx == 0 and sumyy == 0:\n",
    "        sumxx = sumyy = 1\n",
    "    return sumxy/math.sqrt(sumxx*sumyy)\n",
    "\n",
    "def sim_matrix(M, dimension='user'):\n",
    "    N = M.shape[0] if dimension == 'user' else M.shape[1]\n",
    "    print(\"N=\", N)\n",
    "    sim = np.zeros([N,N])\n",
    "    for i in range(N):\n",
    "        for j in range(N):\n",
    "            if i == j:\n",
    "                sim[i,j] = 0 #Cancel out the effect of self-similarity in the sums later\n",
    "                continue\n",
    "            if dimension == 'user':\n",
    "                v1, v2 = M[i,:], M[j,:]\n",
    "            else:\n",
    "                v1, v2 = M[:,i], M[:,j]\n",
    "            sim[i][j] = correlation_similarity(v1,v2)\n",
    "    print(sim.shape)\n",
    "    return sim"
   ]
  },
  {
   "cell_type": "code",
   "execution_count": 13,
   "metadata": {},
   "outputs": [
    {
     "data": {
      "text/html": [
       "<div>\n",
       "<style scoped>\n",
       "    .dataframe tbody tr th:only-of-type {\n",
       "        vertical-align: middle;\n",
       "    }\n",
       "\n",
       "    .dataframe tbody tr th {\n",
       "        vertical-align: top;\n",
       "    }\n",
       "\n",
       "    .dataframe thead th {\n",
       "        text-align: right;\n",
       "    }\n",
       "</style>\n",
       "<table border=\"1\" class=\"dataframe\">\n",
       "  <thead>\n",
       "    <tr style=\"text-align: right;\">\n",
       "      <th></th>\n",
       "      <th>Course</th>\n",
       "      <th>Desperados</th>\n",
       "      <th>Guinness</th>\n",
       "      <th>Chimay Triple</th>\n",
       "      <th>Leffe</th>\n",
       "    </tr>\n",
       "  </thead>\n",
       "  <tbody>\n",
       "    <tr>\n",
       "      <th>0</th>\n",
       "      <td>ICT</td>\n",
       "      <td>4.0</td>\n",
       "      <td>3</td>\n",
       "      <td>2.0</td>\n",
       "      <td>3.0</td>\n",
       "    </tr>\n",
       "    <tr>\n",
       "      <th>1</th>\n",
       "      <td>Medicine</td>\n",
       "      <td>1.0</td>\n",
       "      <td>2</td>\n",
       "      <td>3.0</td>\n",
       "      <td>1.0</td>\n",
       "    </tr>\n",
       "    <tr>\n",
       "      <th>2</th>\n",
       "      <td>Buisness</td>\n",
       "      <td>NaN</td>\n",
       "      <td>2</td>\n",
       "      <td>1.0</td>\n",
       "      <td>NaN</td>\n",
       "    </tr>\n",
       "    <tr>\n",
       "      <th>3</th>\n",
       "      <td>Environment</td>\n",
       "      <td>4.0</td>\n",
       "      <td>3</td>\n",
       "      <td>NaN</td>\n",
       "      <td>NaN</td>\n",
       "    </tr>\n",
       "  </tbody>\n",
       "</table>\n",
       "</div>"
      ],
      "text/plain": [
       "        Course  Desperados  Guinness  Chimay Triple  Leffe\n",
       "0          ICT         4.0         3            2.0    3.0\n",
       "1     Medicine         1.0         2            3.0    1.0\n",
       "2     Buisness         NaN         2            1.0    NaN\n",
       "3  Environment         4.0         3            NaN    NaN"
      ]
     },
     "execution_count": 13,
     "metadata": {},
     "output_type": "execute_result"
    }
   ],
   "source": [
    "df = pd.DataFrame(\n",
    "        {\"Course\" : [\"ICT\", \"Medicine\", \"Buisness\", \"Environment\"],\n",
    "        \"Desperados\" : [4, 1, np.nan, 4],\n",
    "        \"Guinness\" : [3, 2, 2, 3],\n",
    "        \"Chimay Triple\" : [2, 3, 1, np.nan],\n",
    "        \"Leffe\" : [3, 1, np.nan, np.nan]})\n",
    "\n",
    "df.head(16)"
   ]
  },
  {
   "cell_type": "code",
   "execution_count": 18,
   "metadata": {},
   "outputs": [
    {
     "name": "stdout",
     "output_type": "stream",
     "text": [
      "[[ 4.  3.  2.  3.]\n",
      " [ 1.  2.  3.  1.]\n",
      " [nan  2.  1. nan]\n",
      " [ 4.  3. nan nan]]\n"
     ]
    }
   ],
   "source": [
    "data_matrix = np.array([[4, 3, 2, 3],\n",
    "               [1, 2, 3, 1],\n",
    "               [np.nan, 2, 1, np.nan],\n",
    "               [4, 3, np.nan, np.nan]])\n",
    "print(data_matrix)"
   ]
  },
  {
   "cell_type": "code",
   "execution_count": 24,
   "metadata": {},
   "outputs": [
    {
     "name": "stdout",
     "output_type": "stream",
     "text": [
      "N= 4\n",
      "(4, 4)\n"
     ]
    },
    {
     "data": {
      "text/plain": [
       "array([[ 0.        , -0.9701425 ,  1.        ,  1.        ],\n",
       "       [-0.9701425 ,  0.        , -0.5547002 , -0.89442719],\n",
       "       [ 1.        , -0.5547002 ,  0.        , -1.        ],\n",
       "       [ 1.        , -0.89442719, -1.        ,  0.        ]])"
      ]
     },
     "execution_count": 24,
     "metadata": {},
     "output_type": "execute_result"
    }
   ],
   "source": [
    "sim_matrix(data_matrix, 'user')"
   ]
  },
  {
   "cell_type": "code",
   "execution_count": 25,
   "metadata": {},
   "outputs": [
    {
     "name": "stdout",
     "output_type": "stream",
     "text": [
      "N= 4\n",
      "(4, 4)\n"
     ]
    },
    {
     "data": {
      "text/plain": [
       "array([[ 0.        ,  0.94280904, -1.        ,  0.9486833 ],\n",
       "       [ 0.94280904,  0.        ,  0.        ,  1.        ],\n",
       "       [-1.        ,  0.        ,  0.        , -1.        ],\n",
       "       [ 0.9486833 ,  1.        , -1.        ,  0.        ]])"
      ]
     },
     "execution_count": 25,
     "metadata": {},
     "output_type": "execute_result"
    }
   ],
   "source": [
    "sim_matrix(data_matrix, 'item')"
   ]
  },
  {
   "cell_type": "code",
   "execution_count": null,
   "metadata": {},
   "outputs": [],
   "source": []
  }
 ],
 "metadata": {
  "kernelspec": {
   "display_name": "Python 3",
   "language": "python",
   "name": "python3"
  },
  "language_info": {
   "codemirror_mode": {
    "name": "ipython",
    "version": 3
   },
   "file_extension": ".py",
   "mimetype": "text/x-python",
   "name": "python",
   "nbconvert_exporter": "python",
   "pygments_lexer": "ipython3",
   "version": "3.6.5"
  }
 },
 "nbformat": 4,
 "nbformat_minor": 2
}
