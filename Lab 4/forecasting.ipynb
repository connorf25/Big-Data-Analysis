{
 "cells": [
  {
   "cell_type": "code",
   "execution_count": 1,
   "metadata": {},
   "outputs": [],
   "source": [
    "import pandas as pd\n",
    "import matplotlib.pyplot as plt\n",
    "import numpy as np\n",
    "\n",
    "from statsmodels.tsa.holtwinters import SimpleExpSmoothing"
   ]
  },
  {
   "cell_type": "code",
   "execution_count": 2,
   "metadata": {},
   "outputs": [
    {
     "data": {
      "text/html": [
       "<div>\n",
       "<style scoped>\n",
       "    .dataframe tbody tr th:only-of-type {\n",
       "        vertical-align: middle;\n",
       "    }\n",
       "\n",
       "    .dataframe tbody tr th {\n",
       "        vertical-align: top;\n",
       "    }\n",
       "\n",
       "    .dataframe thead th {\n",
       "        text-align: right;\n",
       "    }\n",
       "</style>\n",
       "<table border=\"1\" class=\"dataframe\">\n",
       "  <thead>\n",
       "    <tr style=\"text-align: right;\">\n",
       "      <th></th>\n",
       "      <th>Actual Sales</th>\n",
       "    </tr>\n",
       "  </thead>\n",
       "  <tbody>\n",
       "    <tr>\n",
       "      <th>1</th>\n",
       "      <td>5384</td>\n",
       "    </tr>\n",
       "    <tr>\n",
       "      <th>2</th>\n",
       "      <td>8081</td>\n",
       "    </tr>\n",
       "    <tr>\n",
       "      <th>3</th>\n",
       "      <td>10282</td>\n",
       "    </tr>\n",
       "    <tr>\n",
       "      <th>4</th>\n",
       "      <td>9156</td>\n",
       "    </tr>\n",
       "    <tr>\n",
       "      <th>5</th>\n",
       "      <td>6118</td>\n",
       "    </tr>\n",
       "    <tr>\n",
       "      <th>6</th>\n",
       "      <td>9139</td>\n",
       "    </tr>\n",
       "    <tr>\n",
       "      <th>7</th>\n",
       "      <td>12460</td>\n",
       "    </tr>\n",
       "    <tr>\n",
       "      <th>8</th>\n",
       "      <td>10717</td>\n",
       "    </tr>\n",
       "    <tr>\n",
       "      <th>9</th>\n",
       "      <td>7825</td>\n",
       "    </tr>\n",
       "    <tr>\n",
       "      <th>10</th>\n",
       "      <td>9693</td>\n",
       "    </tr>\n",
       "    <tr>\n",
       "      <th>11</th>\n",
       "      <td>15177</td>\n",
       "    </tr>\n",
       "    <tr>\n",
       "      <th>12</th>\n",
       "      <td>10990</td>\n",
       "    </tr>\n",
       "  </tbody>\n",
       "</table>\n",
       "</div>"
      ],
      "text/plain": [
       "    Actual Sales\n",
       "1           5384\n",
       "2           8081\n",
       "3          10282\n",
       "4           9156\n",
       "5           6118\n",
       "6           9139\n",
       "7          12460\n",
       "8          10717\n",
       "9           7825\n",
       "10          9693\n",
       "11         15177\n",
       "12         10990"
      ]
     },
     "execution_count": 2,
     "metadata": {},
     "output_type": "execute_result"
    }
   ],
   "source": [
    "df = pd.DataFrame(\n",
    "        {\"Actual Sales\" : [5384, 8081, 10282, 9156, 6118, 9139, 12460, 10717, 7825, 9693, 15177, 10990]},\n",
    "        index = range(1,13))\n",
    "df.head(16)"
   ]
  },
  {
   "cell_type": "code",
   "execution_count": 3,
   "metadata": {},
   "outputs": [
    {
     "data": {
      "image/png": "[encoded data removed]",
      "text/plain": [
       "<Figure size 432x288 with 1 Axes>"
      ]
     },
     "metadata": {},
     "output_type": "display_data"
    }
   ],
   "source": [
    "ax = df.plot(kind='line')\n",
    "ax.set_xlabel(\"Period\")\n",
    "ax.set_ylabel(\"Sales\")\n",
    "plt.show()"
   ]
  },
  {
   "cell_type": "code",
   "execution_count": 4,
   "metadata": {},
   "outputs": [
    {
     "data": {
      "text/html": [
       "<div>\n",
       "<style scoped>\n",
       "    .dataframe tbody tr th:only-of-type {\n",
       "        vertical-align: middle;\n",
       "    }\n",
       "\n",
       "    .dataframe tbody tr th {\n",
       "        vertical-align: top;\n",
       "    }\n",
       "\n",
       "    .dataframe thead th {\n",
       "        text-align: right;\n",
       "    }\n",
       "</style>\n",
       "<table border=\"1\" class=\"dataframe\">\n",
       "  <thead>\n",
       "    <tr style=\"text-align: right;\">\n",
       "      <th></th>\n",
       "      <th>Moving Average</th>\n",
       "    </tr>\n",
       "  </thead>\n",
       "  <tbody>\n",
       "    <tr>\n",
       "      <th>1</th>\n",
       "      <td>NaN</td>\n",
       "    </tr>\n",
       "    <tr>\n",
       "      <th>2</th>\n",
       "      <td>NaN</td>\n",
       "    </tr>\n",
       "    <tr>\n",
       "      <th>3</th>\n",
       "      <td>NaN</td>\n",
       "    </tr>\n",
       "    <tr>\n",
       "      <th>4</th>\n",
       "      <td>7915.666667</td>\n",
       "    </tr>\n",
       "    <tr>\n",
       "      <th>5</th>\n",
       "      <td>9173.000000</td>\n",
       "    </tr>\n",
       "    <tr>\n",
       "      <th>6</th>\n",
       "      <td>8518.666667</td>\n",
       "    </tr>\n",
       "    <tr>\n",
       "      <th>7</th>\n",
       "      <td>8137.666667</td>\n",
       "    </tr>\n",
       "    <tr>\n",
       "      <th>8</th>\n",
       "      <td>9239.000000</td>\n",
       "    </tr>\n",
       "    <tr>\n",
       "      <th>9</th>\n",
       "      <td>10772.000000</td>\n",
       "    </tr>\n",
       "    <tr>\n",
       "      <th>10</th>\n",
       "      <td>10334.000000</td>\n",
       "    </tr>\n",
       "    <tr>\n",
       "      <th>11</th>\n",
       "      <td>9411.666667</td>\n",
       "    </tr>\n",
       "    <tr>\n",
       "      <th>12</th>\n",
       "      <td>10898.333333</td>\n",
       "    </tr>\n",
       "    <tr>\n",
       "      <th>13</th>\n",
       "      <td>11953.333333</td>\n",
       "    </tr>\n",
       "    <tr>\n",
       "      <th>14</th>\n",
       "      <td>13083.500000</td>\n",
       "    </tr>\n",
       "    <tr>\n",
       "      <th>15</th>\n",
       "      <td>10990.000000</td>\n",
       "    </tr>\n",
       "  </tbody>\n",
       "</table>\n",
       "</div>"
      ],
      "text/plain": [
       "    Moving Average\n",
       "1              NaN\n",
       "2              NaN\n",
       "3              NaN\n",
       "4      7915.666667\n",
       "5      9173.000000\n",
       "6      8518.666667\n",
       "7      8137.666667\n",
       "8      9239.000000\n",
       "9     10772.000000\n",
       "10    10334.000000\n",
       "11     9411.666667\n",
       "12    10898.333333\n",
       "13    11953.333333\n",
       "14    13083.500000\n",
       "15    10990.000000"
      ]
     },
     "execution_count": 4,
     "metadata": {},
     "output_type": "execute_result"
    }
   ],
   "source": [
    "m_average = [np.nan, np.nan, np.nan]\n",
    "sales = df['Actual Sales']\n",
    "for i in range(len(sales)):\n",
    "    subsection = sales[i:i+3]\n",
    "    m_average.append(sum(subsection)/len(subsection))\n",
    "#     for j in range(1, 4):\n",
    "#         index = i+j\n",
    "#         if(index < 16 and not np.isnan(sales[index])):\n",
    "#             subsection.append(sales[index])\n",
    "#     if(len(subsection) > 0):\n",
    "#         m_average.append(sum(subsection)/len(subsection))\n",
    "    \n",
    "len(m_average)\n",
    "df2 = pd.DataFrame(\n",
    "        {\"Moving Average\" : m_average},\n",
    "        index = range(1,16))\n",
    "df2.head(16)\n",
    "# df[\"3-MA\"] = m_average\n",
    "# df.head(16)\n",
    "# plt.plot(range(1,16), m_average)\n",
    "# plt.show()"
   ]
  },
  {
   "cell_type": "code",
   "execution_count": 5,
   "metadata": {},
   "outputs": [
    {
     "data": {
      "image/png": "[encoded data removed]",
      "text/plain": [
       "<Figure size 432x288 with 1 Axes>"
      ]
     },
     "metadata": {},
     "output_type": "display_data"
    }
   ],
   "source": [
    "result = pd.concat([df, df2], axis=1, sort=False)\n",
    "ax = result.plot(kind='line')\n",
    "ax.set_xlabel(\"Period\")\n",
    "ax.set_ylabel(\"Sales\")\n",
    "plt.show()"
   ]
  },
  {
   "cell_type": "code",
   "execution_count": 6,
   "metadata": {},
   "outputs": [
    {
     "name": "stdout",
     "output_type": "stream",
     "text": [
      "[5384, 5384.0, 5923.4, 6795.120000000001, 7267.296000000001, 7037.436800000001, 7457.749440000001, 8458.199552000002, 8909.959641600002, 8692.967713280002, 8892.974170624002, 10149.779336499201, 10317.82346919936]\n"
     ]
    },
    {
     "data": {
      "text/html": [
       "<div>\n",
       "<style scoped>\n",
       "    .dataframe tbody tr th:only-of-type {\n",
       "        vertical-align: middle;\n",
       "    }\n",
       "\n",
       "    .dataframe tbody tr th {\n",
       "        vertical-align: top;\n",
       "    }\n",
       "\n",
       "    .dataframe thead th {\n",
       "        text-align: right;\n",
       "    }\n",
       "</style>\n",
       "<table border=\"1\" class=\"dataframe\">\n",
       "  <thead>\n",
       "    <tr style=\"text-align: right;\">\n",
       "      <th></th>\n",
       "      <th>a = 0.2</th>\n",
       "    </tr>\n",
       "  </thead>\n",
       "  <tbody>\n",
       "    <tr>\n",
       "      <th>1</th>\n",
       "      <td>5384.000000</td>\n",
       "    </tr>\n",
       "    <tr>\n",
       "      <th>2</th>\n",
       "      <td>5384.000000</td>\n",
       "    </tr>\n",
       "    <tr>\n",
       "      <th>3</th>\n",
       "      <td>5923.400000</td>\n",
       "    </tr>\n",
       "    <tr>\n",
       "      <th>4</th>\n",
       "      <td>6795.120000</td>\n",
       "    </tr>\n",
       "    <tr>\n",
       "      <th>5</th>\n",
       "      <td>7267.296000</td>\n",
       "    </tr>\n",
       "    <tr>\n",
       "      <th>6</th>\n",
       "      <td>7037.436800</td>\n",
       "    </tr>\n",
       "    <tr>\n",
       "      <th>7</th>\n",
       "      <td>7457.749440</td>\n",
       "    </tr>\n",
       "    <tr>\n",
       "      <th>8</th>\n",
       "      <td>8458.199552</td>\n",
       "    </tr>\n",
       "    <tr>\n",
       "      <th>9</th>\n",
       "      <td>8909.959642</td>\n",
       "    </tr>\n",
       "    <tr>\n",
       "      <th>10</th>\n",
       "      <td>8692.967713</td>\n",
       "    </tr>\n",
       "    <tr>\n",
       "      <th>11</th>\n",
       "      <td>8892.974171</td>\n",
       "    </tr>\n",
       "    <tr>\n",
       "      <th>12</th>\n",
       "      <td>10149.779336</td>\n",
       "    </tr>\n",
       "    <tr>\n",
       "      <th>13</th>\n",
       "      <td>10317.823469</td>\n",
       "    </tr>\n",
       "  </tbody>\n",
       "</table>\n",
       "</div>"
      ],
      "text/plain": [
       "         a = 0.2\n",
       "1    5384.000000\n",
       "2    5384.000000\n",
       "3    5923.400000\n",
       "4    6795.120000\n",
       "5    7267.296000\n",
       "6    7037.436800\n",
       "7    7457.749440\n",
       "8    8458.199552\n",
       "9    8909.959642\n",
       "10   8692.967713\n",
       "11   8892.974171\n",
       "12  10149.779336\n",
       "13  10317.823469"
      ]
     },
     "execution_count": 6,
     "metadata": {},
     "output_type": "execute_result"
    }
   ],
   "source": [
    "sales = df['Actual Sales']\n",
    "last_forecast = sales[1]\n",
    "exp_smoothing = [last_forecast]\n",
    "a = 0.2\n",
    "for i in range(len(sales)):\n",
    "    last_forecast = a*sales[i+1]+(1-a)*last_forecast\n",
    "    exp_smoothing.append(last_forecast)\n",
    "    \n",
    "print(exp_smoothing)\n",
    "df2 = pd.DataFrame(\n",
    "        {\"a = 0.2\" : exp_smoothing},\n",
    "        index = range(1,14))\n",
    "df2.head(16)"
   ]
  },
  {
   "cell_type": "code",
   "execution_count": 7,
   "metadata": {},
   "outputs": [
    {
     "name": "stdout",
     "output_type": "stream",
     "text": [
      "[5384, 5384.0, 7541.6, 9733.92, 9271.583999999999, 6748.7168, 8660.943360000001, 11700.188672, 10913.6377344, 8442.72754688, 9442.945509376, 14030.1891018752, 11598.037820375039]\n"
     ]
    },
    {
     "data": {
      "text/html": [
       "<div>\n",
       "<style scoped>\n",
       "    .dataframe tbody tr th:only-of-type {\n",
       "        vertical-align: middle;\n",
       "    }\n",
       "\n",
       "    .dataframe tbody tr th {\n",
       "        vertical-align: top;\n",
       "    }\n",
       "\n",
       "    .dataframe thead th {\n",
       "        text-align: right;\n",
       "    }\n",
       "</style>\n",
       "<table border=\"1\" class=\"dataframe\">\n",
       "  <thead>\n",
       "    <tr style=\"text-align: right;\">\n",
       "      <th></th>\n",
       "      <th>a = 0.8</th>\n",
       "    </tr>\n",
       "  </thead>\n",
       "  <tbody>\n",
       "    <tr>\n",
       "      <th>1</th>\n",
       "      <td>5384.000000</td>\n",
       "    </tr>\n",
       "    <tr>\n",
       "      <th>2</th>\n",
       "      <td>5384.000000</td>\n",
       "    </tr>\n",
       "    <tr>\n",
       "      <th>3</th>\n",
       "      <td>7541.600000</td>\n",
       "    </tr>\n",
       "    <tr>\n",
       "      <th>4</th>\n",
       "      <td>9733.920000</td>\n",
       "    </tr>\n",
       "    <tr>\n",
       "      <th>5</th>\n",
       "      <td>9271.584000</td>\n",
       "    </tr>\n",
       "    <tr>\n",
       "      <th>6</th>\n",
       "      <td>6748.716800</td>\n",
       "    </tr>\n",
       "    <tr>\n",
       "      <th>7</th>\n",
       "      <td>8660.943360</td>\n",
       "    </tr>\n",
       "    <tr>\n",
       "      <th>8</th>\n",
       "      <td>11700.188672</td>\n",
       "    </tr>\n",
       "    <tr>\n",
       "      <th>9</th>\n",
       "      <td>10913.637734</td>\n",
       "    </tr>\n",
       "    <tr>\n",
       "      <th>10</th>\n",
       "      <td>8442.727547</td>\n",
       "    </tr>\n",
       "    <tr>\n",
       "      <th>11</th>\n",
       "      <td>9442.945509</td>\n",
       "    </tr>\n",
       "    <tr>\n",
       "      <th>12</th>\n",
       "      <td>14030.189102</td>\n",
       "    </tr>\n",
       "    <tr>\n",
       "      <th>13</th>\n",
       "      <td>11598.037820</td>\n",
       "    </tr>\n",
       "  </tbody>\n",
       "</table>\n",
       "</div>"
      ],
      "text/plain": [
       "         a = 0.8\n",
       "1    5384.000000\n",
       "2    5384.000000\n",
       "3    7541.600000\n",
       "4    9733.920000\n",
       "5    9271.584000\n",
       "6    6748.716800\n",
       "7    8660.943360\n",
       "8   11700.188672\n",
       "9   10913.637734\n",
       "10   8442.727547\n",
       "11   9442.945509\n",
       "12  14030.189102\n",
       "13  11598.037820"
      ]
     },
     "execution_count": 7,
     "metadata": {},
     "output_type": "execute_result"
    }
   ],
   "source": [
    "last_forecast = sales[1]\n",
    "exp_smoothing = [last_forecast]\n",
    "a = 0.8\n",
    "for i in range(len(sales)):\n",
    "    last_forecast = a*sales[i+1]+(1-a)*last_forecast\n",
    "    exp_smoothing.append(last_forecast)\n",
    "    \n",
    "print(exp_smoothing)\n",
    "df3 = pd.DataFrame(\n",
    "        {\"a = 0.8\" : exp_smoothing},\n",
    "        index = range(1,14))\n",
    "df3.head(16)"
   ]
  },
  {
   "cell_type": "code",
   "execution_count": 8,
   "metadata": {},
   "outputs": [
    {
     "data": {
      "image/png": "[encoded data removed]",
      "text/plain": [
       "<Figure size 432x288 with 1 Axes>"
      ]
     },
     "metadata": {},
     "output_type": "display_data"
    }
   ],
   "source": [
    "result = pd.concat([df, df2, df3], axis=1, sort=False)\n",
    "ax = result.plot(kind='line')\n",
    "ax.set_xlabel(\"Period\")\n",
    "ax.set_ylabel(\"Sales\")\n",
    "plt.show()"
   ]
  },
  {
   "cell_type": "code",
   "execution_count": 20,
   "metadata": {},
   "outputs": [
    {
     "name": "stdout",
     "output_type": "stream",
     "text": [
      "[8056.975954760942, 11320.795658709518, 15796.60842538644, 12980.851182567001]\n"
     ]
    },
    {
     "name": "stderr",
     "output_type": "stream",
     "text": [
      "C:\\Users\\Connor\\Anaconda3\\lib\\site-packages\\ipykernel_launcher.py:9: RankWarning: Polyfit may be poorly conditioned\n",
      "  if __name__ == '__main__':\n"
     ]
    }
   ],
   "source": [
    "season = np.array([1, 2, 3])\n",
    "s1_avg = sum(sales[0:4])/len(sales[0:4])\n",
    "s2_avg = sum(sales[4:8])/len(sales[4:8])\n",
    "s3_avg = sum(sales[8:12])/len(sales[8:12])\n",
    "total_avg = sum(sales)/len(sales)\n",
    "\n",
    "avg_arr = np.array([s1_avg, s2_avg, s3_avg])\n",
    "\n",
    "fit = np.polyfit(season, avg_arr, 3)\n",
    "poly = np.poly1d(fit)\n",
    "average_predict = poly(4)\n",
    "\n",
    "index1 = (sales[1]/s1_avg + sales[5]/s2_avg + sales[9]/s3_avg)/3\n",
    "index2 = (sales[2]/s1_avg + sales[6]/s2_avg + sales[10]/s3_avg)/3\n",
    "index3 = (sales[3]/s1_avg + sales[7]/s2_avg + sales[11]/s3_avg)/3\n",
    "index4 = (sales[4]/s1_avg + sales[8]/s2_avg + sales[12]/s3_avg)/3\n",
    "\n",
    "predict = [average_predict*index1, average_predict*index2, average_predict*index3, average_predict*index4]\n",
    "print(predict)"
   ]
  },
  {
   "cell_type": "code",
   "execution_count": 24,
   "metadata": {},
   "outputs": [
    {
     "data": {
      "image/png": "[encoded data removed]",
      "text/plain": [
       "<Figure size 432x288 with 1 Axes>"
      ]
     },
     "metadata": {},
     "output_type": "display_data"
    }
   ],
   "source": [
    "df2 = pd.DataFrame(\n",
    "        {\"Seasonal forecast\" : predict},\n",
    "        index = range(13,17))\n",
    "df2.head(16)\n",
    "\n",
    "result = pd.concat([df, df2], axis=1, sort=False)\n",
    "ax = result.plot(kind='line')\n",
    "ax.set_xlabel(\"Period\")\n",
    "ax.set_ylabel(\"Sales\")\n",
    "plt.show()"
   ]
  }
 ],
 "metadata": {
  "kernelspec": {
   "display_name": "Python 3",
   "language": "python",
   "name": "python3"
  },
  "language_info": {
   "codemirror_mode": {
    "name": "ipython",
    "version": 3
   },
   "file_extension": ".py",
   "mimetype": "text/x-python",
   "name": "python",
   "nbconvert_exporter": "python",
   "pygments_lexer": "ipython3",
   "version": "3.6.5"
  }
 },
 "nbformat": 4,
 "nbformat_minor": 2
}
