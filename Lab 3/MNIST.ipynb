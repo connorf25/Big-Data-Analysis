{
 "cells": [
  {
   "cell_type": "code",
   "execution_count": 53,
   "metadata": {},
   "outputs": [],
   "source": [
    "import pandas as pd\n",
    "from sklearn import datasets\n",
    "import matplotlib.pyplot as plt\n",
    "\n",
    "digits = datasets.load_digits()\n",
    "\n",
    "from sklearn.model_selection import train_test_split\n",
    "from sklearn.preprocessing import StandardScaler\n",
    "from sklearn.neighbors import KNeighborsClassifier\n",
    "from sklearn.metrics import accuracy_score\n",
    "from sklearn.metrics import classification_report\n",
    "from sklearn.metrics import confusion_matrix\n",
    "from sklearn.svm import SVC\n",
    "from sklearn.naive_bayes import GaussianNB\n",
    "from sklearn.naive_bayes import MultinomialNB\n",
    "from sklearn.naive_bayes import GaussianNB\n",
    "\n",
    "\n",
    "import seaborn as sns"
   ]
  },
  {
   "cell_type": "code",
   "execution_count": 32,
   "metadata": {},
   "outputs": [],
   "source": [
    "x = digits.data\n",
    "y = digits.target\n",
    "\n",
    "x_train, x_test, y_train, y_test = train_test_split(x, y ,test_size=0.2)"
   ]
  },
  {
   "cell_type": "code",
   "execution_count": 34,
   "metadata": {},
   "outputs": [],
   "source": [
    "# Normalize features\n",
    "scaler = StandardScaler()\n",
    "scaler.fit(x_train)\n",
    "\n",
    "x_train = scaler.transform(x_train)\n",
    "x_test = scaler.transform(x_test)"
   ]
  },
  {
   "cell_type": "code",
   "execution_count": 35,
   "metadata": {},
   "outputs": [
    {
     "data": {
      "image/png": "[encoded data removed]",
      "text/plain": [
       "<Figure size 432x288 with 1 Axes>"
      ]
     },
     "metadata": {
      "needs_background": "light"
     },
     "output_type": "display_data"
    }
   ],
   "source": [
    "neighbors = []\n",
    "train_accuracy = []\n",
    "test_accuracy = []\n",
    "for k in range(8):\n",
    "    neighbors.append(k+1)\n",
    "    classifier = KNeighborsClassifier(n_neighbors=k+1)\n",
    "    classifier.fit(x_train, y_train)\n",
    "    y_train_pred = classifier.predict(x_train)\n",
    "    train_acc = accuracy_score(y_train, y_train_pred)\n",
    "    train_accuracy.append(train_acc)\n",
    "    y_test_pred = classifier.predict(x_test)\n",
    "    test_acc = accuracy_score(y_test, y_test_pred)\n",
    "    test_accuracy.append(test_acc)\n",
    "    \n",
    "d = {'Number of Neigbors': neighbors, 'Test Accuracy': test_accuracy, 'Train Accuracy': train_accuracy}\n",
    "df = pd.DataFrame(data=d)\n",
    "\n",
    "ax = plt.gca()\n",
    "\n",
    "df.plot(kind='line',x='Number of Neigbors',y='Test Accuracy', ax=ax)\n",
    "df.plot(kind='line',x='Number of Neigbors',y='Train Accuracy', ax=ax)\n",
    "\n",
    "plt.show()"
   ]
  },
  {
   "cell_type": "markdown",
   "metadata": {},
   "source": [
    "Based off the above graph, it seems that 5 neighbors is best when applying knn to the MNIST dataset. This is the average value that is used during knn classification. "
   ]
  },
  {
   "cell_type": "code",
   "execution_count": 58,
   "metadata": {},
   "outputs": [],
   "source": [
    "# Calculate accuracy for KNN\n",
    "classifier = KNeighborsClassifier(n_neighbors=5)\n",
    "KNN_acc = accuracy_score(y_test, classifier.fit(x_train, y_train).predict(x_test))"
   ]
  },
  {
   "cell_type": "code",
   "execution_count": 47,
   "metadata": {},
   "outputs": [
    {
     "name": "stdout",
     "output_type": "stream",
     "text": [
      "              precision    recall  f1-score   support\n",
      "\n",
      "           0       1.00      1.00      1.00        42\n",
      "           1       0.97      1.00      0.99        33\n",
      "           2       1.00      0.97      0.98        31\n",
      "           3       1.00      0.97      0.99        38\n",
      "           4       0.92      1.00      0.96        35\n",
      "           5       0.98      1.00      0.99        42\n",
      "           6       1.00      1.00      1.00        39\n",
      "           7       1.00      0.95      0.98        42\n",
      "           8       0.96      0.93      0.95        29\n",
      "           9       0.97      0.97      0.97        29\n",
      "\n",
      "   micro avg       0.98      0.98      0.98       360\n",
      "   macro avg       0.98      0.98      0.98       360\n",
      "weighted avg       0.98      0.98      0.98       360\n",
      "\n",
      "              precision    recall  f1-score   support\n",
      "\n",
      "           0       1.00      1.00      1.00        42\n",
      "           1       1.00      0.94      0.97        33\n",
      "           2       0.94      1.00      0.97        31\n",
      "           3       1.00      0.92      0.96        38\n",
      "           4       1.00      1.00      1.00        35\n",
      "           5       0.98      0.98      0.98        42\n",
      "           6       1.00      1.00      1.00        39\n",
      "           7       1.00      0.98      0.99        42\n",
      "           8       0.91      1.00      0.95        29\n",
      "           9       0.90      0.93      0.92        29\n",
      "\n",
      "   micro avg       0.97      0.97      0.97       360\n",
      "   macro avg       0.97      0.97      0.97       360\n",
      "weighted avg       0.98      0.97      0.98       360\n",
      "\n",
      "              precision    recall  f1-score   support\n",
      "\n",
      "           0       1.00      1.00      1.00        42\n",
      "           1       0.86      0.94      0.90        33\n",
      "           2       0.93      0.90      0.92        31\n",
      "           3       1.00      0.95      0.97        38\n",
      "           4       0.97      1.00      0.99        35\n",
      "           5       0.98      1.00      0.99        42\n",
      "           6       1.00      1.00      1.00        39\n",
      "           7       1.00      0.93      0.96        42\n",
      "           8       0.90      0.93      0.92        29\n",
      "           9       0.93      0.93      0.93        29\n",
      "\n",
      "   micro avg       0.96      0.96      0.96       360\n",
      "   macro avg       0.96      0.96      0.96       360\n",
      "weighted avg       0.96      0.96      0.96       360\n",
      "\n"
     ]
    }
   ],
   "source": [
    "# RBF Kernel\n",
    "rbf = SVC(kernel='rbf', gamma='auto')\n",
    "rbf.fit(x_train, y_train)\n",
    "\n",
    "y_test_pred = rbf.predict(x_test)\n",
    "print(classification_report(y_test, y_test_pred))\n",
    "\n",
    "# Linear Kernel\n",
    "linear = SVC(kernel='linear', gamma='auto')\n",
    "linear.fit(x_train, y_train)\n",
    "\n",
    "y_test_pred = linear.predict(x_test)\n",
    "print(classification_report(y_test, y_test_pred))\n",
    "\n",
    "# Sigmoid Kernel\n",
    "sigmoid = SVC(kernel='sigmoid', gamma='auto')\n",
    "sigmoid.fit(x_train, y_train)\n",
    "\n",
    "y_test_pred = sigmoid.predict(x_test)\n",
    "print(classification_report(y_test, y_test_pred))\n"
   ]
  },
  {
   "cell_type": "markdown",
   "metadata": {},
   "source": [
    "In this case, the best kernal to use would be the rbf kernal as it reports the highest precision, recall and f1-score."
   ]
  },
  {
   "cell_type": "code",
   "execution_count": 60,
   "metadata": {},
   "outputs": [],
   "source": [
    "# Calculate SVM accuracy\n",
    "SVM_acc = accuracy_score(y_test, rbf.predict(x_test))"
   ]
  },
  {
   "cell_type": "code",
   "execution_count": 57,
   "metadata": {},
   "outputs": [
    {
     "data": {
      "image/png": "[encoded data removed]",
      "text/plain": [
       "<Figure size 720x576 with 2 Axes>"
      ]
     },
     "metadata": {
      "needs_background": "light"
     },
     "output_type": "display_data"
    }
   ],
   "source": [
    "gnb = GaussianNB()\n",
    "y_pred = gnb.fit(x_train, y_train).predict(x_test)\n",
    "matrix = confusion_matrix(y_test, y_pred)\n",
    "\n",
    "plt.figure(figsize=(10,8))\n",
    "sns.heatmap(matrix, annot=True)\n",
    "plt.show()"
   ]
  },
  {
   "cell_type": "code",
   "execution_count": 62,
   "metadata": {},
   "outputs": [],
   "source": [
    "# Calculate Bayes Accuracy\n",
    "Bayes_acc = accuracy_score(y_test, gnb.predict(x_test))"
   ]
  },
  {
   "cell_type": "code",
   "execution_count": 67,
   "metadata": {},
   "outputs": [
    {
     "data": {
      "image/png": "[encoded data removed]",
      "text/plain": [
       "<Figure size 432x288 with 1 Axes>"
      ]
     },
     "metadata": {
      "needs_background": "light"
     },
     "output_type": "display_data"
    }
   ],
   "source": [
    "# Plot Accuracy\n",
    "acc_df = pd.DataFrame({\n",
    "    'Classification': ['Bayes', 'KNN', 'SVM'],\n",
    "    'Accuracy': [Bayes_acc, KNN_acc, SVM_acc]\n",
    "})\n",
    "\n",
    "acc_df.plot(kind='bar', x='Classification', y='Accuracy')\n",
    "plt.show()"
   ]
  }
 ],
 "metadata": {
  "kernelspec": {
   "display_name": "Python 3",
   "language": "python",
   "name": "python3"
  },
  "language_info": {
   "codemirror_mode": {
    "name": "ipython",
    "version": 3
   },
   "file_extension": ".py",
   "mimetype": "text/x-python",
   "name": "python",
   "nbconvert_exporter": "python",
   "pygments_lexer": "ipython3",
   "version": "3.7.3"
  }
 },
 "nbformat": 4,
 "nbformat_minor": 2
}
