{
 "cells": [
  {
   "cell_type": "markdown",
   "metadata": {},
   "source": [
    "# Lab 7 - Textual Data Analytics\n",
    "Complete the code with TODO tag.\n",
    "## 1. Feature Engineering\n",
    "In this exercise we will understand the functioning of TF/IDF ranking. Implement the feature engineering and its application, based on the code framework provided below.\n",
    "\n",
    "First we use textual data from Twitter."
   ]
  },
  {
   "cell_type": "code",
   "execution_count": 17,
   "metadata": {},
   "outputs": [
    {
     "name": "stdout",
     "output_type": "stream",
     "text": [
      "2819\n"
     ]
    },
    {
     "data": {
      "text/html": [
       "<div>\n",
       "<style scoped>\n",
       "    .dataframe tbody tr th:only-of-type {\n",
       "        vertical-align: middle;\n",
       "    }\n",
       "\n",
       "    .dataframe tbody tr th {\n",
       "        vertical-align: top;\n",
       "    }\n",
       "\n",
       "    .dataframe thead th {\n",
       "        text-align: right;\n",
       "    }\n",
       "</style>\n",
       "<table border=\"1\" class=\"dataframe\">\n",
       "  <thead>\n",
       "    <tr style=\"text-align: right;\">\n",
       "      <th></th>\n",
       "      <th>id</th>\n",
       "      <th>created_at</th>\n",
       "      <th>text</th>\n",
       "    </tr>\n",
       "  </thead>\n",
       "  <tbody>\n",
       "    <tr>\n",
       "      <th>0</th>\n",
       "      <td>849636868052275200</td>\n",
       "      <td>2017-04-05 14:56:29</td>\n",
       "      <td>b'And so the robots spared humanity ... https:...</td>\n",
       "    </tr>\n",
       "    <tr>\n",
       "      <th>1</th>\n",
       "      <td>848988730585096192</td>\n",
       "      <td>2017-04-03 20:01:01</td>\n",
       "      <td>b\"@ForIn2020 @waltmossberg @mims @defcon_5 Exa...</td>\n",
       "    </tr>\n",
       "    <tr>\n",
       "      <th>2</th>\n",
       "      <td>848943072423497728</td>\n",
       "      <td>2017-04-03 16:59:35</td>\n",
       "      <td>b'@waltmossberg @mims @defcon_5 Et tu, Walt?'</td>\n",
       "    </tr>\n",
       "    <tr>\n",
       "      <th>3</th>\n",
       "      <td>848935705057280001</td>\n",
       "      <td>2017-04-03 16:30:19</td>\n",
       "      <td>b'Stormy weather in Shortville ...'</td>\n",
       "    </tr>\n",
       "    <tr>\n",
       "      <th>4</th>\n",
       "      <td>848416049573658624</td>\n",
       "      <td>2017-04-02 06:05:23</td>\n",
       "      <td>b\"@DaveLeeBBC @verge Coal is dying due to nat ...</td>\n",
       "    </tr>\n",
       "    <tr>\n",
       "      <th>5</th>\n",
       "      <td>848415731502923777</td>\n",
       "      <td>2017-04-02 06:04:07</td>\n",
       "      <td>b\"@Lexxxzis It's just a helicopter in helicopt...</td>\n",
       "    </tr>\n",
       "    <tr>\n",
       "      <th>6</th>\n",
       "      <td>848415356263702528</td>\n",
       "      <td>2017-04-02 06:02:38</td>\n",
       "      <td>b\"@verge It won't matter\"</td>\n",
       "    </tr>\n",
       "    <tr>\n",
       "      <th>7</th>\n",
       "      <td>848398971139629057</td>\n",
       "      <td>2017-04-02 04:57:31</td>\n",
       "      <td>b'@SuperCoolCube Pretty good'</td>\n",
       "    </tr>\n",
       "    <tr>\n",
       "      <th>8</th>\n",
       "      <td>848244577521647616</td>\n",
       "      <td>2017-04-01 18:44:01</td>\n",
       "      <td>b\"Why did we waste so much time developing sil...</td>\n",
       "    </tr>\n",
       "    <tr>\n",
       "      <th>9</th>\n",
       "      <td>848243350993895424</td>\n",
       "      <td>2017-04-01 18:39:09</td>\n",
       "      <td>b'Technology breakthrough: turns out chemtrail...</td>\n",
       "    </tr>\n",
       "    <tr>\n",
       "      <th>10</th>\n",
       "      <td>848239928043491328</td>\n",
       "      <td>2017-04-01 18:25:33</td>\n",
       "      <td>b\"RT @OpenAI: We've created the world's first ...</td>\n",
       "    </tr>\n",
       "    <tr>\n",
       "      <th>11</th>\n",
       "      <td>848239664536223745</td>\n",
       "      <td>2017-04-01 18:24:30</td>\n",
       "      <td>b'RT @ProfBrianCox: This is extremely importan...</td>\n",
       "    </tr>\n",
       "    <tr>\n",
       "      <th>12</th>\n",
       "      <td>848036043240636417</td>\n",
       "      <td>2017-04-01 04:55:23</td>\n",
       "      <td>b'@adamsbj Def P100D with Ludicrous+, although...</td>\n",
       "    </tr>\n",
       "    <tr>\n",
       "      <th>13</th>\n",
       "      <td>847958571895619584</td>\n",
       "      <td>2017-03-31 23:47:32</td>\n",
       "      <td>b'@BadAstronomer We can def bring it back like...</td>\n",
       "    </tr>\n",
       "    <tr>\n",
       "      <th>14</th>\n",
       "      <td>847890916048338946</td>\n",
       "      <td>2017-03-31 19:18:42</td>\n",
       "      <td>b'@tesla_addict @TeslaMotors Working on it'</td>\n",
       "    </tr>\n",
       "    <tr>\n",
       "      <th>15</th>\n",
       "      <td>847884776719740928</td>\n",
       "      <td>2017-03-31 18:54:18</td>\n",
       "      <td>b\"@jasonlamb Looks like it could do 20% more w...</td>\n",
       "    </tr>\n",
       "    <tr>\n",
       "      <th>16</th>\n",
       "      <td>847884413706874880</td>\n",
       "      <td>2017-03-31 18:52:51</td>\n",
       "      <td>b'@cheron A lot'</td>\n",
       "    </tr>\n",
       "    <tr>\n",
       "      <th>17</th>\n",
       "      <td>847884351375372288</td>\n",
       "      <td>2017-03-31 18:52:36</td>\n",
       "      <td>b'@Cardoso Silliest thing we can imagine! Secr...</td>\n",
       "    </tr>\n",
       "    <tr>\n",
       "      <th>18</th>\n",
       "      <td>847883435100299267</td>\n",
       "      <td>2017-03-31 18:48:58</td>\n",
       "      <td>b'@redletterdave Good point, odds go from 0% t...</td>\n",
       "    </tr>\n",
       "    <tr>\n",
       "      <th>19</th>\n",
       "      <td>847882909906341888</td>\n",
       "      <td>2017-03-31 18:46:53</td>\n",
       "      <td>b'Falcon Heavy test flight currently scheduled...</td>\n",
       "    </tr>\n",
       "  </tbody>\n",
       "</table>\n",
       "</div>"
      ],
      "text/plain": [
       "                    id           created_at  \\\n",
       "0   849636868052275200  2017-04-05 14:56:29   \n",
       "1   848988730585096192  2017-04-03 20:01:01   \n",
       "2   848943072423497728  2017-04-03 16:59:35   \n",
       "3   848935705057280001  2017-04-03 16:30:19   \n",
       "4   848416049573658624  2017-04-02 06:05:23   \n",
       "5   848415731502923777  2017-04-02 06:04:07   \n",
       "6   848415356263702528  2017-04-02 06:02:38   \n",
       "7   848398971139629057  2017-04-02 04:57:31   \n",
       "8   848244577521647616  2017-04-01 18:44:01   \n",
       "9   848243350993895424  2017-04-01 18:39:09   \n",
       "10  848239928043491328  2017-04-01 18:25:33   \n",
       "11  848239664536223745  2017-04-01 18:24:30   \n",
       "12  848036043240636417  2017-04-01 04:55:23   \n",
       "13  847958571895619584  2017-03-31 23:47:32   \n",
       "14  847890916048338946  2017-03-31 19:18:42   \n",
       "15  847884776719740928  2017-03-31 18:54:18   \n",
       "16  847884413706874880  2017-03-31 18:52:51   \n",
       "17  847884351375372288  2017-03-31 18:52:36   \n",
       "18  847883435100299267  2017-03-31 18:48:58   \n",
       "19  847882909906341888  2017-03-31 18:46:53   \n",
       "\n",
       "                                                 text  \n",
       "0   b'And so the robots spared humanity ... https:...  \n",
       "1   b\"@ForIn2020 @waltmossberg @mims @defcon_5 Exa...  \n",
       "2       b'@waltmossberg @mims @defcon_5 Et tu, Walt?'  \n",
       "3                 b'Stormy weather in Shortville ...'  \n",
       "4   b\"@DaveLeeBBC @verge Coal is dying due to nat ...  \n",
       "5   b\"@Lexxxzis It's just a helicopter in helicopt...  \n",
       "6                           b\"@verge It won't matter\"  \n",
       "7                       b'@SuperCoolCube Pretty good'  \n",
       "8   b\"Why did we waste so much time developing sil...  \n",
       "9   b'Technology breakthrough: turns out chemtrail...  \n",
       "10  b\"RT @OpenAI: We've created the world's first ...  \n",
       "11  b'RT @ProfBrianCox: This is extremely importan...  \n",
       "12  b'@adamsbj Def P100D with Ludicrous+, although...  \n",
       "13  b'@BadAstronomer We can def bring it back like...  \n",
       "14        b'@tesla_addict @TeslaMotors Working on it'  \n",
       "15  b\"@jasonlamb Looks like it could do 20% more w...  \n",
       "16                                   b'@cheron A lot'  \n",
       "17  b'@Cardoso Silliest thing we can imagine! Secr...  \n",
       "18  b'@redletterdave Good point, odds go from 0% t...  \n",
       "19  b'Falcon Heavy test flight currently scheduled...  "
      ]
     },
     "execution_count": 17,
     "metadata": {},
     "output_type": "execute_result"
    }
   ],
   "source": [
    "import numpy as np\n",
    "import pandas as pd\n",
    "data = pd.read_csv('elonmusk_tweets.csv')\n",
    "print(len(data))\n",
    "data.head(20)"
   ]
  },
  {
   "cell_type": "markdown",
   "metadata": {},
   "source": [
    "### 1.1. Text Normalization\n",
    "Now we need to normalize text by stemming, tokenizing, and removing stopwords."
   ]
  },
  {
   "cell_type": "code",
   "execution_count": 2,
   "metadata": {},
   "outputs": [
    {
     "name": "stdout",
     "output_type": "stream",
     "text": [
      "[nltk_data] Downloading package punkt to\n",
      "[nltk_data]     C:\\Users\\Connor\\AppData\\Roaming\\nltk_data...\n",
      "[nltk_data]   Unzipping tokenizers\\punkt.zip.\n",
      "[nltk_data] Downloading package stopwords to\n",
      "[nltk_data]     C:\\Users\\Connor\\AppData\\Roaming\\nltk_data...\n",
      "[nltk_data]   Unzipping corpora\\stopwords.zip.\n"
     ]
    }
   ],
   "source": [
    "from __future__ import print_function, division\n",
    "from nltk.stem import PorterStemmer, WordNetLemmatizer\n",
    "import nltk\n",
    "nltk.download('punkt')\n",
    "import string\n",
    "from nltk.corpus import stopwords\n",
    "import math\n",
    "from collections import Counter\n",
    "nltk.download('stopwords')\n",
    "import pprint \n",
    "pp = pprint.PrettyPrinter(indent=4)"
   ]
  },
  {
   "cell_type": "code",
   "execution_count": 49,
   "metadata": {},
   "outputs": [
    {
     "data": {
      "text/plain": [
       "['forin2020',\n",
       " 'waltmossberg',\n",
       " 'mim',\n",
       " 'defcon5',\n",
       " 'exactli',\n",
       " 'tesla',\n",
       " 'is',\n",
       " 'absurdli',\n",
       " 'overvalu',\n",
       " 'if',\n",
       " 'base',\n",
       " 'on',\n",
       " 'the',\n",
       " 'past',\n",
       " 'but',\n",
       " 'that',\n",
       " 'irrxe2x80xa6',\n",
       " 'httpstcoqqctqkzgml']"
      ]
     },
     "execution_count": 49,
     "metadata": {},
     "output_type": "execute_result"
    }
   ],
   "source": [
    "def normalize(document):\n",
    "    # COMPLETE: remove punctuation\n",
    "    # Remove first b\n",
    "    text = document.translate(str.maketrans('', '', string.punctuation))[1:]\n",
    "    \n",
    "    # COMPLETE: tokenize text\n",
    "    tokens = nltk.tokenize.word_tokenize(text)\n",
    "    \n",
    "    # COMPLETE: Stemming\n",
    "    stemmer = PorterStemmer()\n",
    "    ret = [stemmer.stem(token) for token in tokens]\n",
    "    return ret\n",
    "\n",
    "original_documents = [x.strip() for x in data['text']] \n",
    "documents = [normalize(d) for d in original_documents]\n",
    "documents[1]"
   ]
  },
  {
   "cell_type": "markdown",
   "metadata": {},
   "source": [
    "As you can see that the normalization is still not perfect. Please feel free to improve upon (OPTIONAL), e.g. https://marcobonzanini.com/2015/03/09/mining-twitter-data-with-python-part-2/"
   ]
  },
  {
   "cell_type": "markdown",
   "metadata": {},
   "source": [
    "### 1.2. Implement TF-IDF\n",
    "Now you need to implement TF-IDF, including creating the vocabulary, computing term frequency, and normalizing by tf-idf weights."
   ]
  },
  {
   "cell_type": "code",
   "execution_count": 34,
   "metadata": {},
   "outputs": [
    {
     "name": "stdout",
     "output_type": "stream",
     "text": [
      "[('tesla', 340)]\n"
     ]
    },
    {
     "data": {
      "text/plain": [
       "['RT', 'tesla', 'model', 'spacex', 'thi']"
      ]
     },
     "execution_count": 34,
     "metadata": {},
     "output_type": "execute_result"
    }
   ],
   "source": [
    "# Flatten all the documents\n",
    "flat_list = [word for doc in documents for word in doc]\n",
    "\n",
    "# COMPLETE: remove stop words from the vocabulary\n",
    "stop_words = set(stopwords.words('english'))\n",
    "words = [w for w in flat_list if not w in stop_words] \n",
    "\n",
    "# COMPLETE: we take the 500 most common words only\n",
    "counts = Counter(words)\n",
    "vocabulary = counts.most_common(500)\n",
    "print([x for x in vocabulary if x[0] == 'tesla'])\n",
    "vocabulary = [x[0] for x in vocabulary]\n",
    "assert len(vocabulary) == 500\n",
    "\n",
    "# vocabulary.sort()\n",
    "vocabulary[:5]"
   ]
  },
  {
   "cell_type": "code",
   "execution_count": 38,
   "metadata": {},
   "outputs": [
    {
     "data": {
      "text/plain": [
       "(array(['tesla', 'exactli', 'base'], dtype='<U17'), array([1, 1, 1]))"
      ]
     },
     "execution_count": 38,
     "metadata": {},
     "output_type": "execute_result"
    }
   ],
   "source": [
    "def tf(vocabulary, documents):\n",
    "    matrix = [0] * len(documents)\n",
    "    for i, document in enumerate(documents):\n",
    "        counts = Counter(document)\n",
    "        matrix[i] = [0] * len(vocabulary)\n",
    "        for j, term in enumerate(vocabulary):\n",
    "            matrix[i][j] = counts[term]\n",
    "    return matrix\n",
    "\n",
    "tf = tf(vocabulary, documents)\n",
    "np.array(vocabulary)[np.where(np.array(tf[1]) > 0)], np.array(tf[1])[np.where(np.array(tf[1]) > 0)]"
   ]
  },
  {
   "cell_type": "code",
   "execution_count": 56,
   "metadata": {},
   "outputs": [
    {
     "data": {
      "text/plain": [
       "[1.7538220852609654,\n",
       " 2.1270263311509083,\n",
       " 2.4845519769699536,\n",
       " 2.514791862159672,\n",
       " 2.5828453254046875]"
      ]
     },
     "execution_count": 56,
     "metadata": {},
     "output_type": "execute_result"
    }
   ],
   "source": [
    "DF = {}\n",
    "for i in range(len(documents)):\n",
    "    tokens = documents[i]\n",
    "    for w in tokens:\n",
    "        try:\n",
    "            DF[w].add(i)\n",
    "        except:\n",
    "            DF[w] = {i}\n",
    "            \n",
    "for i in DF:\n",
    "    DF[i] = len(DF[i])\n",
    "\n",
    "def idf(vocabulary, documents):\n",
    "    \"\"\"COMPLETE: compute IDF, storing values in a dictionary\"\"\"\n",
    "    idf = {}\n",
    "    for term in vocabulary:\n",
    "        df = DF[term]\n",
    "        calc_idf = np.log(len(documents)/(df+1))\n",
    "        idf[term] = calc_idf\n",
    "    return idf\n",
    "\n",
    "idf = idf(vocabulary, documents)\n",
    "[idf[key] for key in vocabulary[:5]]"
   ]
  },
  {
   "cell_type": "code",
   "execution_count": 57,
   "metadata": {},
   "outputs": [
    {
     "data": {
      "text/plain": [
       "(array(['tesla', 'exactli', 'base'], dtype='<U17'),\n",
       " array([2.12702633, 4.44762993, 5.45923084]))"
      ]
     },
     "execution_count": 57,
     "metadata": {},
     "output_type": "execute_result"
    }
   ],
   "source": [
    "def vectorize(document, vocabulary, idf):\n",
    "    vector = [0]*len(vocabulary)\n",
    "    counts = Counter(document)\n",
    "    for i,term in enumerate(vocabulary):\n",
    "        vector[i] = idf[term] * counts[term]\n",
    "    return vector\n",
    "\n",
    "document_vectors = [vectorize(s, vocabulary, idf) for s in documents]\n",
    "np.array(vocabulary)[np.where(np.array(document_vectors[1]) > 0)], np.array(document_vectors[1])[np.where(np.array(document_vectors[1]) > 0)]"
   ]
  },
  {
   "cell_type": "markdown",
   "metadata": {},
   "source": [
    "### 1.3. Compare the results with the reference implementation of scikit-learn library."
   ]
  },
  {
   "cell_type": "markdown",
   "metadata": {},
   "source": [
    "Now we use the scikit-learn library. As you can see that, the way we do text normalization affects the result. Feel free to further improve upon (OPTIONAL), e.g. https://stackoverflow.com/questions/36182502/add-stemming-support-to-countvectorizer-sklearn"
   ]
  },
  {
   "cell_type": "code",
   "execution_count": 58,
   "metadata": {},
   "outputs": [
    {
     "name": "stdout",
     "output_type": "stream",
     "text": [
      "[('http', 163.54366542841234), ('https', 151.85039944652075), ('rt', 112.61998731390989), ('tesla', 95.96401470715628), ('xe2', 88.20944486346477)]\n",
      "testla 0.3495243100660956\n"
     ]
    }
   ],
   "source": [
    "from sklearn.feature_extraction.text import CountVectorizer, TfidfVectorizer\n",
    "from sklearn.metrics.pairwise import linear_kernel\n",
    "\n",
    "tfidf = TfidfVectorizer(analyzer='word', ngram_range=(1,1), min_df = 1, stop_words = 'english', max_features=500)\n",
    "\n",
    "features = tfidf.fit(original_documents)\n",
    "corpus_tf_idf = tfidf.transform(original_documents) \n",
    "\n",
    "sum_words = corpus_tf_idf.sum(axis=0)\n",
    "words_freq = [(word, sum_words[0, idx]) for word, idx in tfidf.vocabulary_.items()]\n",
    "print(sorted(words_freq, key = lambda x: x[1], reverse=True)[:5])\n",
    "print('testla', corpus_tf_idf[1, features.vocabulary_['tesla']])"
   ]
  },
  {
   "cell_type": "markdown",
   "metadata": {},
   "source": [
    "### 1.4.  Apply TF-IDF for information retrieval\n",
    "We can use the vector representation of documents to implement an information retrieval system. We test with the query $Q$ = \"tesla nasa\""
   ]
  },
  {
   "cell_type": "code",
   "execution_count": 80,
   "metadata": {},
   "outputs": [
    {
     "name": "stderr",
     "output_type": "stream",
     "text": [
      "C:\\Users\\Connor\\Anaconda3\\lib\\site-packages\\ipykernel_launcher.py:4: RuntimeWarning: invalid value encountered in double_scalars\n",
      "  after removing the cwd from sys.path.\n"
     ]
    },
    {
     "name": "stdout",
     "output_type": "stream",
     "text": [
      "Top-5 documents\n",
      "0 b'@ashwin7002 @NASA @faa @AFPAA We have not ruled that out.'\n",
      "1 b'RT @jehldavid: Beautiful up to date album of @SpaceX Dragon spacecraft photos released by @NASA. @elonmusk https://t.co/g4a0K0EsEM'\n",
      "2 b'Tesla P100D put to the test by Drag Times https://t.co/5qP3o2VDdW'\n",
      "3 b'@business Glad to have Tencent as an investor and advisor to Tesla'\n",
      "4 b'Tesla Model S loses 28% after 50k miles, a Mercedes S-Class will lose 38%, a BMW 7-series will lose 40%, and an Audi A8 will lose 41%.'\n"
     ]
    }
   ],
   "source": [
    "def cosine_similarity(v1,v2):\n",
    "    \"\"\"TODO: compute cosine similarity\"\"\"\n",
    "    sumxx, sumxy, sumyy = 0, 0, 0\n",
    "    result = np.dot(v1, v2)/(np.linalg.norm(v1)*np.linalg.norm(v2))\n",
    "    return result\n",
    "\n",
    "def search_vec(query, k, vocabulary, stemmer, document_vectors, original_documents):\n",
    "    q = query.split()\n",
    "    q = [stemmer.stem(w) for w in q]\n",
    "    query_vector = vectorize(q, vocabulary, idf)\n",
    "    \n",
    "    # TODO: rank the documents by cosine similarity\n",
    "    scores = []\n",
    "    for i, document_vector in enumerate(document_vectors):\n",
    "        scores.append([cosine_similarity(query_vector, document_vector), i])\n",
    "        \n",
    "    scores = sorted(scores, reverse=True)\n",
    "    \n",
    "    print('Top-{0} documents'.format(k))\n",
    "    for i in range(k):\n",
    "        print(i, original_documents[scores[i][1]])\n",
    "\n",
    "query = \"tesla nasa\"\n",
    "stemmer = PorterStemmer()\n",
    "search_vec(query, 5, vocabulary, stemmer, document_vectors, original_documents)"
   ]
  },
  {
   "cell_type": "markdown",
   "metadata": {},
   "source": [
    "We can also use the scikit-learn library to do the retrieval."
   ]
  },
  {
   "cell_type": "code",
   "execution_count": 60,
   "metadata": {},
   "outputs": [
    {
     "name": "stdout",
     "output_type": "stream",
     "text": [
      "Top-5 documents\n",
      "0 b'@ashwin7002 @NASA @faa @AFPAA We have not ruled that out.'\n",
      "1 b\"SpaceX could not do this without NASA. Can't express enough appreciation. https://t.co/uQpI60zAV7\"\n",
      "2 b'@NASA launched a rocket into the northern lights http://t.co/tR2cSeMV'\n",
      "3 b'Whatever happens today, we could not have done it without @NASA, but errors are ours alone and me most of all.'\n",
      "4 b'RT @NASA: Updated @SpaceX #Dragon #ISS rendezvous times: NASA TV coverage begins Sunday at 3:30amET: http://t.co/qrm0Dz4jPE. Grapple at  ...'\n"
     ]
    }
   ],
   "source": [
    "new_features = tfidf.transform([query])\n",
    "\n",
    "cosine_similarities = linear_kernel(new_features, corpus_tf_idf).flatten()\n",
    "related_docs_indices = cosine_similarities.argsort()[::-1]\n",
    "\n",
    "topk = 5\n",
    "print('Top-{0} documents'.format(topk))\n",
    "for i in range(topk):\n",
    "    print(i, original_documents[related_docs_indices[i]])"
   ]
  }
 ],
 "metadata": {
  "kernelspec": {
   "display_name": "Python 3",
   "language": "python",
   "name": "python3"
  },
  "language_info": {
   "codemirror_mode": {
    "name": "ipython",
    "version": 3
   },
   "file_extension": ".py",
   "mimetype": "text/x-python",
   "name": "python",
   "nbconvert_exporter": "python",
   "pygments_lexer": "ipython3",
   "version": "3.6.5"
  }
 },
 "nbformat": 4,
 "nbformat_minor": 2
}
