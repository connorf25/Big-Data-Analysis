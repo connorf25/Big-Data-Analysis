{
 "cells": [
  {
   "cell_type": "code",
   "execution_count": 166,
   "metadata": {},
   "outputs": [],
   "source": [
    "import pandas as pd\n",
    "import matplotlib.pyplot as plt\n",
    "import numpy as np\n",
    "\n",
    "from sklearn.metrics.pairwise import cosine_similarity\n",
    "from sklearn.model_selection import train_test_split\n",
    "from sklearn.metrics import mean_squared_error\n",
    "import math"
   ]
  },
  {
   "cell_type": "code",
   "execution_count": 58,
   "metadata": {
    "scrolled": true
   },
   "outputs": [
    {
     "data": {
      "text/html": [
       "<div>\n",
       "<style scoped>\n",
       "    .dataframe tbody tr th:only-of-type {\n",
       "        vertical-align: middle;\n",
       "    }\n",
       "\n",
       "    .dataframe tbody tr th {\n",
       "        vertical-align: top;\n",
       "    }\n",
       "\n",
       "    .dataframe thead th {\n",
       "        text-align: right;\n",
       "    }\n",
       "</style>\n",
       "<table border=\"1\" class=\"dataframe\">\n",
       "  <thead>\n",
       "    <tr style=\"text-align: right;\">\n",
       "      <th></th>\n",
       "      <th>movie_id</th>\n",
       "      <th>title</th>\n",
       "      <th>genres</th>\n",
       "    </tr>\n",
       "  </thead>\n",
       "  <tbody>\n",
       "    <tr>\n",
       "      <th>0</th>\n",
       "      <td>1</td>\n",
       "      <td>Toy Story (1995)</td>\n",
       "      <td>Animation|Children's|Comedy</td>\n",
       "    </tr>\n",
       "    <tr>\n",
       "      <th>1</th>\n",
       "      <td>2</td>\n",
       "      <td>Jumanji (1995)</td>\n",
       "      <td>Adventure|Children's|Fantasy</td>\n",
       "    </tr>\n",
       "    <tr>\n",
       "      <th>2</th>\n",
       "      <td>3</td>\n",
       "      <td>Grumpier Old Men (1995)</td>\n",
       "      <td>Comedy|Romance</td>\n",
       "    </tr>\n",
       "    <tr>\n",
       "      <th>3</th>\n",
       "      <td>4</td>\n",
       "      <td>Waiting to Exhale (1995)</td>\n",
       "      <td>Comedy|Drama</td>\n",
       "    </tr>\n",
       "    <tr>\n",
       "      <th>4</th>\n",
       "      <td>5</td>\n",
       "      <td>Father of the Bride Part II (1995)</td>\n",
       "      <td>Comedy</td>\n",
       "    </tr>\n",
       "  </tbody>\n",
       "</table>\n",
       "</div>"
      ],
      "text/plain": [
       "   movie_id                               title                        genres\n",
       "0         1                    Toy Story (1995)   Animation|Children's|Comedy\n",
       "1         2                      Jumanji (1995)  Adventure|Children's|Fantasy\n",
       "2         3             Grumpier Old Men (1995)                Comedy|Romance\n",
       "3         4            Waiting to Exhale (1995)                  Comedy|Drama\n",
       "4         5  Father of the Bride Part II (1995)                        Comedy"
      ]
     },
     "execution_count": 58,
     "metadata": {},
     "output_type": "execute_result"
    }
   ],
   "source": [
    "df = pd.read_csv('movies-utf8.csv')\n",
    "df.head()"
   ]
  },
  {
   "cell_type": "code",
   "execution_count": 59,
   "metadata": {},
   "outputs": [
    {
     "name": "stdout",
     "output_type": "stream",
     "text": [
      "{'Animation', 'Adventure', \"Children's\", 'Drama', 'Romance', 'Action', 'Documentary', 'Musical', 'Comedy', 'War', 'Horror', 'Thriller', 'Sci-Fi', 'Fantasy', 'Crime'}\n"
     ]
    }
   ],
   "source": [
    "listGen = set()\n",
    "for (columnName, columnData) in df.iteritems():\n",
    "    if columnName != 'genres':\n",
    "        continue\n",
    "    for genres in columnData.values:\n",
    "        if isinstance(genres, str):\n",
    "            genres = genres.split('|')\n",
    "            for genre in genres:\n",
    "                listGen.add(genre)\n",
    "print(listGen)"
   ]
  },
  {
   "cell_type": "code",
   "execution_count": 62,
   "metadata": {},
   "outputs": [],
   "source": [
    "gen_list = []\n",
    "df['genres'] = df['genres'].replace(np.nan, '', regex=True)\n",
    "\n",
    "def split_gen(gen_string):\n",
    "    if isinstance(gen_string, str):\n",
    "        return gen_string.split('|')\n",
    "    else:\n",
    "        return gen_string\n",
    "    \n",
    "df['genres'].map(lambda x: gen_list.append(split_gen(x)))\n",
    "df['gen_list'] = gen_list"
   ]
  },
  {
   "cell_type": "code",
   "execution_count": 74,
   "metadata": {},
   "outputs": [
    {
     "name": "stdout",
     "output_type": "stream",
     "text": [
      "[[1, 0, 1, 0, 0, 0, 0, 0, 1, 0, 0, 0, 0, 0, 0], [0, 1, 1, 0, 0, 0, 0, 0, 0, 0, 0, 0, 0, 1, 0], [0, 0, 0, 0, 1, 0, 0, 0, 1, 0, 0, 0, 0, 0, 0], [0, 0, 0, 1, 0, 0, 0, 0, 1, 0, 0, 0, 0, 0, 0]]\n",
      "[1, 0, 1, 0, 0, 0, 0, 0, 1, 0, 0, 0, 0, 0, 0]\n"
     ]
    }
   ],
   "source": [
    "M = gen_list\n",
    "\n",
    "M_G = [[1 if genre in sublist else 0 for genre in listGen] for sublist in M]\n",
    "\n",
    "print(M_G[:4])\n",
    "\n",
    "print(M_G[0])"
   ]
  },
  {
   "cell_type": "code",
   "execution_count": 68,
   "metadata": {},
   "outputs": [
    {
     "data": {
      "text/html": [
       "<div>\n",
       "<style scoped>\n",
       "    .dataframe tbody tr th:only-of-type {\n",
       "        vertical-align: middle;\n",
       "    }\n",
       "\n",
       "    .dataframe tbody tr th {\n",
       "        vertical-align: top;\n",
       "    }\n",
       "\n",
       "    .dataframe thead th {\n",
       "        text-align: right;\n",
       "    }\n",
       "</style>\n",
       "<table border=\"1\" class=\"dataframe\">\n",
       "  <thead>\n",
       "    <tr style=\"text-align: right;\">\n",
       "      <th></th>\n",
       "      <th>user_id</th>\n",
       "      <th>movie_id</th>\n",
       "      <th>rating</th>\n",
       "    </tr>\n",
       "  </thead>\n",
       "  <tbody>\n",
       "    <tr>\n",
       "      <th>0</th>\n",
       "      <td>1</td>\n",
       "      <td>1</td>\n",
       "      <td>3</td>\n",
       "    </tr>\n",
       "    <tr>\n",
       "      <th>1</th>\n",
       "      <td>1</td>\n",
       "      <td>3</td>\n",
       "      <td>5</td>\n",
       "    </tr>\n",
       "    <tr>\n",
       "      <th>2</th>\n",
       "      <td>1</td>\n",
       "      <td>4</td>\n",
       "      <td>4</td>\n",
       "    </tr>\n",
       "    <tr>\n",
       "      <th>3</th>\n",
       "      <td>1</td>\n",
       "      <td>5</td>\n",
       "      <td>3</td>\n",
       "    </tr>\n",
       "    <tr>\n",
       "      <th>4</th>\n",
       "      <td>1</td>\n",
       "      <td>6</td>\n",
       "      <td>3</td>\n",
       "    </tr>\n",
       "  </tbody>\n",
       "</table>\n",
       "</div>"
      ],
      "text/plain": [
       "   user_id  movie_id  rating\n",
       "0        1         1       3\n",
       "1        1         3       5\n",
       "2        1         4       4\n",
       "3        1         5       3\n",
       "4        1         6       3"
      ]
     },
     "execution_count": 68,
     "metadata": {},
     "output_type": "execute_result"
    }
   ],
   "source": [
    "df_user = pd.read_csv('ratings.csv')\n",
    "df_user.head()"
   ]
  },
  {
   "cell_type": "code",
   "execution_count": 82,
   "metadata": {},
   "outputs": [
    {
     "name": "stdout",
     "output_type": "stream",
     "text": [
      "[[1, 1, 1, 1, 1, 1, 1, 1, 1, 0, 1, 1, 1, 1, 1], [1, 1, 1, 1, 1, 1, 1, 0, 1, 1, 1, 1, 1, 1, 1], [1, 1, 1, 1, 1, 1, 1, 1, 1, 1, 1, 1, 1, 1, 1], [1, 1, 1, 1, 1, 1, 1, 1, 1, 0, 1, 1, 1, 1, 1]]\n"
     ]
    }
   ],
   "source": [
    "# Initialize each user with list of zeros for categories\n",
    "U_G = [[0] * len(listGen)] * df_user['user_id'].max()\n",
    "\n",
    "for index, row in df_user.iterrows():\n",
    "    # Perform or operator on users current rated categories and the movies categories\n",
    "    U_G[row['user_id']-1] = [a or b for a, b in zip(U_G[row['user_id']-1], M_G[row['movie_id']-1])]\n",
    "\n",
    "print(U_G[:4])"
   ]
  },
  {
   "cell_type": "code",
   "execution_count": 97,
   "metadata": {},
   "outputs": [
    {
     "name": "stdout",
     "output_type": "stream",
     "text": [
      "[[0.46291005 0.46291005 0.4472136  ... 0.46291005 0.4472136  0.4472136 ]\n",
      " [0.46291005 0.46291005 0.4472136  ... 0.46291005 0.4472136  0.4472136 ]\n",
      " [0.37796447 0.37796447 0.36514837 ... 0.37796447 0.36514837 0.36514837]\n",
      " ...\n",
      " [0.37796447 0.37796447 0.36514837 ... 0.37796447 0.36514837 0.36514837]\n",
      " [0.26726124 0.26726124 0.25819889 ... 0.26726124 0.25819889 0.25819889]\n",
      " [0.37796447 0.37796447 0.36514837 ... 0.37796447 0.36514837 0.36514837]]\n"
     ]
    }
   ],
   "source": [
    "sim = cosine_similarity(M_G, U_G)\n",
    "\n",
    "print(sim)"
   ]
  },
  {
   "cell_type": "markdown",
   "metadata": {},
   "source": [
    "# b)"
   ]
  },
  {
   "cell_type": "code",
   "execution_count": 107,
   "metadata": {},
   "outputs": [],
   "source": [
    "# Split into training and testing data\n",
    "\n",
    "train_data, test_data = train_test_split(df_user, test_size=0.5)\n",
    "\n",
    "train = train_data.pivot_table(index='movie_id', columns='user_id', values='rating').astype('float64')\n",
    "test = test_data.pivot_table(index='movie_id', columns='user_id', values='rating').astype('float64')"
   ]
  },
  {
   "cell_type": "code",
   "execution_count": 182,
   "metadata": {},
   "outputs": [],
   "source": [
    "import math\n",
    "def cosine_similarity(v1,v2, metric='cosine'):\n",
    "    if metric == 'correlation':\n",
    "        v1 = v1 - np.nanmean(v1)\n",
    "        v2 = v2 - np.nanmean(v2)\n",
    "    sumxx, sumxy, sumyy = 0, 0, 0\n",
    "    for i in range(len(v1)):\n",
    "        x = v1[i+1]; y = v2[i+1]\n",
    "        if np.isnan(x) or np.isnan(y): continue\n",
    "        sumxx += x*x\n",
    "        sumyy += y*y\n",
    "        sumxy += x*y\n",
    "    return sumxy/math.sqrt(sumxx*sumyy)\n",
    "\n",
    "def sim_matrix(M, dimension='user', metric='cosine'):\n",
    "    N = M.shape[0] if dimension == 'user' else M.shape[1]\n",
    "    sim = np.zeros([N,N])\n",
    "    for i in range(N):\n",
    "        for j in range(N):\n",
    "            if i == j:\n",
    "                sim[i,j] = 0\n",
    "                continue\n",
    "            if dimension == 'user':\n",
    "                v1, v2 = M[i+1], M[j+1]\n",
    "            else:\n",
    "                v1, v2 = M.ix[i+1], M.ix[j+1]\n",
    "            sim[i][j] = cosine_similarity(v1,v2,metric)\n",
    "    return sim"
   ]
  },
  {
   "cell_type": "markdown",
   "metadata": {},
   "source": [
    "## User CF"
   ]
  },
  {
   "cell_type": "code",
   "execution_count": 143,
   "metadata": {},
   "outputs": [],
   "source": [
    "user_sim = sim_matrix(train, 'user', 'correlation')"
   ]
  },
  {
   "cell_type": "code",
   "execution_count": 148,
   "metadata": {},
   "outputs": [
    {
     "name": "stdout",
     "output_type": "stream",
     "text": [
      "[[ 0.         -0.17536381 -0.40171391 ... -0.04813454 -0.01207952\n",
      "   0.07862194]\n",
      " [-0.17536381  0.         -0.26189816 ... -0.10993577 -0.29245681\n",
      "   0.12463326]\n",
      " [-0.40171391 -0.26189816  0.         ... -0.15712101  0.21855797\n",
      "   0.08706135]\n",
      " ...\n",
      " [-0.04813454 -0.10993577 -0.15712101 ...  0.         -0.59750263\n",
      "  -0.1164841 ]\n",
      " [-0.01207952 -0.29245681  0.21855797 ... -0.59750263  0.\n",
      "   0.2299324 ]\n",
      " [ 0.07862194  0.12463326  0.08706135 ... -0.1164841   0.2299324\n",
      "   0.        ]]\n"
     ]
    }
   ],
   "source": [
    "print(user_sim)"
   ]
  },
  {
   "cell_type": "code",
   "execution_count": 157,
   "metadata": {},
   "outputs": [],
   "source": [
    "def predict_user(M, u, i, simularity, avg, n_users):\n",
    "    total_sum = 0\n",
    "    bot_sum = 0\n",
    "    for v in range(n_users):\n",
    "        if (u != v):\n",
    "            bot_sum += simularity[u, v]\n",
    "    for v in range(n_users):\n",
    "        if (u != v and not np.isnan(M.loc[v+1,i+1])):\n",
    "            total_sum += simularity[u, v]*(M.loc[v+1, i+1]-avg[v])/bot_sum\n",
    "    return avg[u]+total_sum\n",
    "\n",
    "def user_cf(M, sim_users):\n",
    "    pred = np.copy(M)\n",
    "    n_users, n_items = M.shape\n",
    "    avg_ratings = np.nanmean(M, axis=1)\n",
    "    for i in range(n_users):\n",
    "        for j in range(n_items):\n",
    "            if np.isnan(M.loc[i+1,j+1]):\n",
    "                pred[i,j] = predict_user(M, i, j, sim_users, avg_ratings, n_users)\n",
    "    return pred"
   ]
  },
  {
   "cell_type": "code",
   "execution_count": 159,
   "metadata": {},
   "outputs": [],
   "source": [
    "pred = user_cf(train, user_sim)"
   ]
  },
  {
   "cell_type": "code",
   "execution_count": 160,
   "metadata": {},
   "outputs": [
    {
     "name": "stdout",
     "output_type": "stream",
     "text": [
      "[[ 3.84648358  3.          3.5720679  ...  3.22494     4.\n",
      "   4.        ]\n",
      " [ 7.23064305  0.26920817 -1.34546389 ...  0.74592987  3.24976089\n",
      "   4.        ]\n",
      " [ 4.25727106  3.96595136  4.         ...  5.          3.35063816\n",
      "   4.        ]\n",
      " ...\n",
      " [ 3.09645188  3.2514601   3.23065361 ...  4.          2.95885415\n",
      "   5.        ]\n",
      " [ 4.05940517  3.79128936  3.64439874 ...  3.86076089  3.29313481\n",
      "   3.67088947]\n",
      " [ 1.          2.01896465  4.         ...  4.88831557  3.\n",
      "   5.        ]]\n"
     ]
    }
   ],
   "source": [
    "print(pred)"
   ]
  },
  {
   "cell_type": "code",
   "execution_count": 173,
   "metadata": {},
   "outputs": [
    {
     "name": "stdout",
     "output_type": "stream",
     "text": [
      "29.6\n"
     ]
    }
   ],
   "source": [
    "# Fill NA values so the RMSE works\n",
    "test = test.fillna(test.mean())\n",
    "\n",
    "MSE = mean_squared_error(pred, test)\n",
    "RMSE = round(math.sqrt(MSE),3)\n",
    "print(RMSE)"
   ]
  },
  {
   "cell_type": "code",
   "execution_count": 179,
   "metadata": {},
   "outputs": [
    {
     "name": "stdout",
     "output_type": "stream",
     "text": [
      "(100, 100)\n",
      "29.599633414458673\n"
     ]
    }
   ],
   "source": [
    "N = pred.shape\n",
    "print(N)\n",
    "total_sum = 0\n",
    "n = 0\n",
    "for i in range(N[0]):\n",
    "    for j in range(N[1]):\n",
    "        if (test.loc[i+1, j+1]):\n",
    "            total_sum += (pred[i,j] - test.loc[i+1, j+1])**2\n",
    "            n += 1\n",
    "rmse = math.sqrt(total_sum/n)\n",
    "print(rmse)"
   ]
  },
  {
   "cell_type": "markdown",
   "metadata": {},
   "source": [
    "## Item CF"
   ]
  },
  {
   "cell_type": "code",
   "execution_count": 184,
   "metadata": {},
   "outputs": [
    {
     "name": "stderr",
     "output_type": "stream",
     "text": [
      "C:\\Users\\Connor\\Anaconda3\\lib\\site-packages\\ipykernel_launcher.py:26: DeprecationWarning: \n",
      ".ix is deprecated. Please use\n",
      ".loc for label based indexing or\n",
      ".iloc for positional indexing\n",
      "\n",
      "See the documentation here:\n",
      "http://pandas.pydata.org/pandas-docs/stable/indexing.html#ix-indexer-is-deprecated\n"
     ]
    },
    {
     "name": "stdout",
     "output_type": "stream",
     "text": [
      "[[ 0.         -0.33776883 -0.12447196 ... -0.32467362  0.36219885\n",
      "   0.08233208]\n",
      " [-0.33776883  0.         -0.12531477 ... -0.05765317 -0.44981749\n",
      "   0.10799486]\n",
      " [-0.12447196 -0.12531477  0.         ...  0.24097388 -0.25151784\n",
      "  -0.2345426 ]\n",
      " ...\n",
      " [-0.32467362 -0.05765317  0.24097388 ...  0.         -0.39953212\n",
      "  -0.23093259]\n",
      " [ 0.36219885 -0.44981749 -0.25151784 ... -0.39953212  0.\n",
      "  -0.21924347]\n",
      " [ 0.08233208  0.10799486 -0.2345426  ... -0.23093259 -0.21924347\n",
      "   0.        ]]\n"
     ]
    }
   ],
   "source": [
    "item_sim = sim_matrix(train, 'item', 'correlation')\n",
    "print(item_sim)"
   ]
  },
  {
   "cell_type": "code",
   "execution_count": 187,
   "metadata": {},
   "outputs": [],
   "source": [
    "def predict_item(M, u, i, simularity, avg, n_items):\n",
    "    total_sum = 0\n",
    "    bot_sum = 0\n",
    "    for j in range(n_items):\n",
    "        if (i != j):\n",
    "            bot_sum += simularity[i, j]\n",
    "    for j in range(n_items):\n",
    "        if (i != j and not np.isnan(M.loc[u+1, j+1])):\n",
    "            total_sum += simularity[i, j]*(M.loc[u+1, j+1]-avg[j])/bot_sum\n",
    "    return avg[i]+total_sum\n",
    "\n",
    "def item_cf(M, sim_items):\n",
    "    pred = np.copy(M)\n",
    "    n_users, n_items = M.shape\n",
    "    avg_ratings = np.nanmean(M, axis=0)\n",
    "    for u in range(n_users):\n",
    "        for i in range(n_items):\n",
    "            if np.isnan(M.loc[u+1,i+1]):\n",
    "                pred[u,i] = predict_item(M, u, i, sim_items, avg_ratings, n_items)\n",
    "    return pred"
   ]
  },
  {
   "cell_type": "code",
   "execution_count": 188,
   "metadata": {},
   "outputs": [
    {
     "name": "stdout",
     "output_type": "stream",
     "text": [
      "[[  3.25287567   3.           6.7058905  ...   2.73881672   4.\n",
      "    4.        ]\n",
      " [  2.4492314    3.42849243   7.22808501 ...   3.98575055   5.7841872\n",
      "    4.        ]\n",
      " [  4.66178895   3.52199643   4.         ...   5.           3.68314077\n",
      "    4.        ]\n",
      " ...\n",
      " [  4.81789217   3.94046756  -1.78467406 ...   4.           2.29972811\n",
      "    5.        ]\n",
      " [  3.66585823   3.58351806   1.30849617 ...   3.45662713   3.20922453\n",
      "  -35.0536043 ]\n",
      " [  1.           3.16096606   4.         ...   4.14444606   3.\n",
      "    5.        ]]\n"
     ]
    }
   ],
   "source": [
    "pred_item = item_cf(train, item_sim)\n",
    "print(pred_item)"
   ]
  },
  {
   "cell_type": "code",
   "execution_count": 189,
   "metadata": {},
   "outputs": [
    {
     "name": "stdout",
     "output_type": "stream",
     "text": [
      "(100, 100)\n",
      "5.2832697027905455\n"
     ]
    }
   ],
   "source": [
    "N = pred_item.shape\n",
    "print(N)\n",
    "total_sum = 0\n",
    "n = 0\n",
    "for i in range(N[0]):\n",
    "    for j in range(N[1]):\n",
    "        if (test.loc[i+1, j+1]):\n",
    "            total_sum += (pred_item[i,j] - test.loc[i+1, j+1])**2\n",
    "            n += 1\n",
    "rmse = math.sqrt(total_sum/n)\n",
    "print(rmse)"
   ]
  },
  {
   "cell_type": "markdown",
   "metadata": {},
   "source": [
    "# Conclusion\n",
    "In the above example item based CF performs significantly better than user based CF because its RMSE of 5.28 is lower than 29.60. This sugests that similar movies are a better indication of how a user will rate a movie rather than similar users."
   ]
  }
 ],
 "metadata": {
  "kernelspec": {
   "display_name": "Python 3",
   "language": "python",
   "name": "python3"
  },
  "language_info": {
   "codemirror_mode": {
    "name": "ipython",
    "version": 3
   },
   "file_extension": ".py",
   "mimetype": "text/x-python",
   "name": "python",
   "nbconvert_exporter": "python",
   "pygments_lexer": "ipython3",
   "version": "3.7.3"
  }
 },
 "nbformat": 4,
 "nbformat_minor": 2
}
