{
 "cells": [
  {
   "cell_type": "code",
   "execution_count": 63,
   "metadata": {},
   "outputs": [],
   "source": [
    "import pandas as pd\n",
    "import matplotlib.pyplot as plt\n",
    "import numpy as np\n",
    "import seaborn as sns"
   ]
  },
  {
   "cell_type": "markdown",
   "metadata": {},
   "source": [
    "# Part 1 - Data Preparation and Pre-processing"
   ]
  },
  {
   "cell_type": "code",
   "execution_count": 2,
   "metadata": {},
   "outputs": [
    {
     "name": "stderr",
     "output_type": "stream",
     "text": [
      "C:\\Users\\Conno\\anaconda3\\lib\\site-packages\\IPython\\core\\interactiveshell.py:3063: DtypeWarning: Columns (0,4,5,6,7) have mixed types.Specify dtype option on import or set low_memory=False.\n",
      "  interactivity=interactivity, compiler=compiler, result=result)\n"
     ]
    },
    {
     "data": {
      "text/html": [
       "<div>\n",
       "<style scoped>\n",
       "    .dataframe tbody tr th:only-of-type {\n",
       "        vertical-align: middle;\n",
       "    }\n",
       "\n",
       "    .dataframe tbody tr th {\n",
       "        vertical-align: top;\n",
       "    }\n",
       "\n",
       "    .dataframe thead th {\n",
       "        text-align: right;\n",
       "    }\n",
       "</style>\n",
       "<table border=\"1\" class=\"dataframe\">\n",
       "  <thead>\n",
       "    <tr style=\"text-align: right;\">\n",
       "      <th></th>\n",
       "      <th>Id</th>\n",
       "      <th>Title</th>\n",
       "      <th>Company</th>\n",
       "      <th>Date</th>\n",
       "      <th>Location</th>\n",
       "      <th>Area</th>\n",
       "      <th>Classification</th>\n",
       "      <th>SubClassification</th>\n",
       "      <th>Requirement</th>\n",
       "      <th>FullDescription</th>\n",
       "      <th>LowestSalary</th>\n",
       "      <th>HighestSalary</th>\n",
       "      <th>JobType</th>\n",
       "    </tr>\n",
       "  </thead>\n",
       "  <tbody>\n",
       "    <tr>\n",
       "      <th>0</th>\n",
       "      <td>37404348</td>\n",
       "      <td>Casual Stock Replenisher</td>\n",
       "      <td>Aldi Stores</td>\n",
       "      <td>2018-10-07T00:00:00.000Z</td>\n",
       "      <td>Sydney</td>\n",
       "      <td>North West &amp; Hills District</td>\n",
       "      <td>Retail &amp; Consumer Products</td>\n",
       "      <td>Retail Assistants</td>\n",
       "      <td>Our Casual Stock Replenishers pride themselves...</td>\n",
       "      <td>NaN</td>\n",
       "      <td>0</td>\n",
       "      <td>30</td>\n",
       "      <td>NaN</td>\n",
       "    </tr>\n",
       "    <tr>\n",
       "      <th>1</th>\n",
       "      <td>37404337</td>\n",
       "      <td>Casual Stock Replenisher</td>\n",
       "      <td>Aldi Stores</td>\n",
       "      <td>2018-10-07T00:00:00.000Z</td>\n",
       "      <td>Richmond &amp; Hawkesbury</td>\n",
       "      <td>NaN</td>\n",
       "      <td>Retail &amp; Consumer Products</td>\n",
       "      <td>Retail Assistants</td>\n",
       "      <td>Our Casual Stock Replenishers pride themselves...</td>\n",
       "      <td>NaN</td>\n",
       "      <td>0</td>\n",
       "      <td>30</td>\n",
       "      <td>NaN</td>\n",
       "    </tr>\n",
       "    <tr>\n",
       "      <th>2</th>\n",
       "      <td>37404356</td>\n",
       "      <td>RETAIL SALES SUPERSTARS and STYLISTS Wanted - ...</td>\n",
       "      <td>LB Creative Pty Ltd</td>\n",
       "      <td>2018-10-07T00:00:00.000Z</td>\n",
       "      <td>Brisbane</td>\n",
       "      <td>CBD &amp; Inner Suburbs</td>\n",
       "      <td>Retail &amp; Consumer Products</td>\n",
       "      <td>Retail Assistants</td>\n",
       "      <td>BRAND NEW FLAGSHIP STORE OPENING - SUNSHINE PLAZA</td>\n",
       "      <td>NaN</td>\n",
       "      <td>0</td>\n",
       "      <td>30</td>\n",
       "      <td>NaN</td>\n",
       "    </tr>\n",
       "    <tr>\n",
       "      <th>3</th>\n",
       "      <td>37404330</td>\n",
       "      <td>Team member - Belrose</td>\n",
       "      <td>Anaconda Group Pty Ltd</td>\n",
       "      <td>2018-10-07T00:00:00.000Z</td>\n",
       "      <td>Gosford &amp; Central Coast</td>\n",
       "      <td>NaN</td>\n",
       "      <td>Retail &amp; Consumer Products</td>\n",
       "      <td>Retail Assistants</td>\n",
       "      <td>Bring it on - do you love the great outdoors a...</td>\n",
       "      <td>NaN</td>\n",
       "      <td>0</td>\n",
       "      <td>30</td>\n",
       "      <td>NaN</td>\n",
       "    </tr>\n",
       "    <tr>\n",
       "      <th>4</th>\n",
       "      <td>37404308</td>\n",
       "      <td>Business Banking Contact Centre Specialist, Ni...</td>\n",
       "      <td>Commonwealth Bank - Business &amp; Private Banking</td>\n",
       "      <td>2018-10-07T00:00:00.000Z</td>\n",
       "      <td>Sydney</td>\n",
       "      <td>Ryde &amp; Macquarie Park</td>\n",
       "      <td>Call Centre &amp; Customer Service</td>\n",
       "      <td>Sales - Inbound</td>\n",
       "      <td>We are seeking highly articulate, enthusiastic...</td>\n",
       "      <td>NaN</td>\n",
       "      <td>0</td>\n",
       "      <td>30</td>\n",
       "      <td>NaN</td>\n",
       "    </tr>\n",
       "  </tbody>\n",
       "</table>\n",
       "</div>"
      ],
      "text/plain": [
       "         Id                                              Title  \\\n",
       "0  37404348                           Casual Stock Replenisher   \n",
       "1  37404337                           Casual Stock Replenisher   \n",
       "2  37404356  RETAIL SALES SUPERSTARS and STYLISTS Wanted - ...   \n",
       "3  37404330                              Team member - Belrose   \n",
       "4  37404308  Business Banking Contact Centre Specialist, Ni...   \n",
       "\n",
       "                                          Company                      Date  \\\n",
       "0                                     Aldi Stores  2018-10-07T00:00:00.000Z   \n",
       "1                                     Aldi Stores  2018-10-07T00:00:00.000Z   \n",
       "2                             LB Creative Pty Ltd  2018-10-07T00:00:00.000Z   \n",
       "3                          Anaconda Group Pty Ltd  2018-10-07T00:00:00.000Z   \n",
       "4  Commonwealth Bank - Business & Private Banking  2018-10-07T00:00:00.000Z   \n",
       "\n",
       "                  Location                         Area  \\\n",
       "0                   Sydney  North West & Hills District   \n",
       "1    Richmond & Hawkesbury                          NaN   \n",
       "2                 Brisbane          CBD & Inner Suburbs   \n",
       "3  Gosford & Central Coast                          NaN   \n",
       "4                   Sydney        Ryde & Macquarie Park   \n",
       "\n",
       "                   Classification  SubClassification  \\\n",
       "0      Retail & Consumer Products  Retail Assistants   \n",
       "1      Retail & Consumer Products  Retail Assistants   \n",
       "2      Retail & Consumer Products  Retail Assistants   \n",
       "3      Retail & Consumer Products  Retail Assistants   \n",
       "4  Call Centre & Customer Service    Sales - Inbound   \n",
       "\n",
       "                                         Requirement FullDescription  \\\n",
       "0  Our Casual Stock Replenishers pride themselves...             NaN   \n",
       "1  Our Casual Stock Replenishers pride themselves...             NaN   \n",
       "2  BRAND NEW FLAGSHIP STORE OPENING - SUNSHINE PLAZA             NaN   \n",
       "3  Bring it on - do you love the great outdoors a...             NaN   \n",
       "4  We are seeking highly articulate, enthusiastic...             NaN   \n",
       "\n",
       "   LowestSalary  HighestSalary JobType  \n",
       "0             0             30     NaN  \n",
       "1             0             30     NaN  \n",
       "2             0             30     NaN  \n",
       "3             0             30     NaN  \n",
       "4             0             30     NaN  "
      ]
     },
     "execution_count": 2,
     "metadata": {},
     "output_type": "execute_result"
    }
   ],
   "source": [
    "df = pd.read_csv(\"data.csv\")\n",
    "df.head()"
   ]
  },
  {
   "cell_type": "code",
   "execution_count": 3,
   "metadata": {},
   "outputs": [
    {
     "data": {
      "text/plain": [
       "8607"
      ]
     },
     "execution_count": 3,
     "metadata": {},
     "output_type": "execute_result"
    }
   ],
   "source": [
    "# Check for duplicates\n",
    "df = df.drop('Id', axis=1)\n",
    "df.duplicated().sum()"
   ]
  },
  {
   "cell_type": "code",
   "execution_count": 4,
   "metadata": {},
   "outputs": [
    {
     "data": {
      "text/plain": [
       "0"
      ]
     },
     "execution_count": 4,
     "metadata": {},
     "output_type": "execute_result"
    }
   ],
   "source": [
    "# Remove Duplicates\n",
    "df = df.drop_duplicates()\n",
    "df.duplicated().sum()"
   ]
  },
  {
   "cell_type": "code",
   "execution_count": 5,
   "metadata": {},
   "outputs": [
    {
     "data": {
      "text/html": [
       "<div>\n",
       "<style scoped>\n",
       "    .dataframe tbody tr th:only-of-type {\n",
       "        vertical-align: middle;\n",
       "    }\n",
       "\n",
       "    .dataframe tbody tr th {\n",
       "        vertical-align: top;\n",
       "    }\n",
       "\n",
       "    .dataframe thead th {\n",
       "        text-align: right;\n",
       "    }\n",
       "</style>\n",
       "<table border=\"1\" class=\"dataframe\">\n",
       "  <thead>\n",
       "    <tr style=\"text-align: right;\">\n",
       "      <th></th>\n",
       "      <th>Company</th>\n",
       "      <th>Date</th>\n",
       "      <th>Location</th>\n",
       "      <th>Area</th>\n",
       "      <th>Classification</th>\n",
       "      <th>SubClassification</th>\n",
       "      <th>LowestSalary</th>\n",
       "      <th>HighestSalary</th>\n",
       "      <th>JobType</th>\n",
       "    </tr>\n",
       "  </thead>\n",
       "  <tbody>\n",
       "    <tr>\n",
       "      <th>0</th>\n",
       "      <td>Aldi Stores</td>\n",
       "      <td>2018-10-07T00:00:00.000Z</td>\n",
       "      <td>Sydney</td>\n",
       "      <td>North West &amp; Hills District</td>\n",
       "      <td>Retail &amp; Consumer Products</td>\n",
       "      <td>Retail Assistants</td>\n",
       "      <td>0</td>\n",
       "      <td>30</td>\n",
       "      <td>NaN</td>\n",
       "    </tr>\n",
       "    <tr>\n",
       "      <th>1</th>\n",
       "      <td>Aldi Stores</td>\n",
       "      <td>2018-10-07T00:00:00.000Z</td>\n",
       "      <td>Richmond &amp; Hawkesbury</td>\n",
       "      <td>NaN</td>\n",
       "      <td>Retail &amp; Consumer Products</td>\n",
       "      <td>Retail Assistants</td>\n",
       "      <td>0</td>\n",
       "      <td>30</td>\n",
       "      <td>NaN</td>\n",
       "    </tr>\n",
       "    <tr>\n",
       "      <th>2</th>\n",
       "      <td>LB Creative Pty Ltd</td>\n",
       "      <td>2018-10-07T00:00:00.000Z</td>\n",
       "      <td>Brisbane</td>\n",
       "      <td>CBD &amp; Inner Suburbs</td>\n",
       "      <td>Retail &amp; Consumer Products</td>\n",
       "      <td>Retail Assistants</td>\n",
       "      <td>0</td>\n",
       "      <td>30</td>\n",
       "      <td>NaN</td>\n",
       "    </tr>\n",
       "    <tr>\n",
       "      <th>3</th>\n",
       "      <td>Anaconda Group Pty Ltd</td>\n",
       "      <td>2018-10-07T00:00:00.000Z</td>\n",
       "      <td>Gosford &amp; Central Coast</td>\n",
       "      <td>NaN</td>\n",
       "      <td>Retail &amp; Consumer Products</td>\n",
       "      <td>Retail Assistants</td>\n",
       "      <td>0</td>\n",
       "      <td>30</td>\n",
       "      <td>NaN</td>\n",
       "    </tr>\n",
       "    <tr>\n",
       "      <th>4</th>\n",
       "      <td>Commonwealth Bank - Business &amp; Private Banking</td>\n",
       "      <td>2018-10-07T00:00:00.000Z</td>\n",
       "      <td>Sydney</td>\n",
       "      <td>Ryde &amp; Macquarie Park</td>\n",
       "      <td>Call Centre &amp; Customer Service</td>\n",
       "      <td>Sales - Inbound</td>\n",
       "      <td>0</td>\n",
       "      <td>30</td>\n",
       "      <td>NaN</td>\n",
       "    </tr>\n",
       "  </tbody>\n",
       "</table>\n",
       "</div>"
      ],
      "text/plain": [
       "                                          Company                      Date  \\\n",
       "0                                     Aldi Stores  2018-10-07T00:00:00.000Z   \n",
       "1                                     Aldi Stores  2018-10-07T00:00:00.000Z   \n",
       "2                             LB Creative Pty Ltd  2018-10-07T00:00:00.000Z   \n",
       "3                          Anaconda Group Pty Ltd  2018-10-07T00:00:00.000Z   \n",
       "4  Commonwealth Bank - Business & Private Banking  2018-10-07T00:00:00.000Z   \n",
       "\n",
       "                  Location                         Area  \\\n",
       "0                   Sydney  North West & Hills District   \n",
       "1    Richmond & Hawkesbury                          NaN   \n",
       "2                 Brisbane          CBD & Inner Suburbs   \n",
       "3  Gosford & Central Coast                          NaN   \n",
       "4                   Sydney        Ryde & Macquarie Park   \n",
       "\n",
       "                   Classification  SubClassification  LowestSalary  \\\n",
       "0      Retail & Consumer Products  Retail Assistants             0   \n",
       "1      Retail & Consumer Products  Retail Assistants             0   \n",
       "2      Retail & Consumer Products  Retail Assistants             0   \n",
       "3      Retail & Consumer Products  Retail Assistants             0   \n",
       "4  Call Centre & Customer Service    Sales - Inbound             0   \n",
       "\n",
       "   HighestSalary JobType  \n",
       "0             30     NaN  \n",
       "1             30     NaN  \n",
       "2             30     NaN  \n",
       "3             30     NaN  \n",
       "4             30     NaN  "
      ]
     },
     "execution_count": 5,
     "metadata": {},
     "output_type": "execute_result"
    }
   ],
   "source": [
    "# Remove columns that wont be used in analysis\n",
    "df = df.drop(['Title', 'Requirement', 'FullDescription'], axis=1)\n",
    "df.head()"
   ]
  },
  {
   "cell_type": "code",
   "execution_count": 6,
   "metadata": {},
   "outputs": [
    {
     "data": {
      "text/plain": [
       "Company               11928\n",
       "Date                      0\n",
       "Location             113577\n",
       "Area                 187763\n",
       "Classification       113577\n",
       "SubClassification    113577\n",
       "LowestSalary              0\n",
       "HighestSalary             0\n",
       "JobType               15517\n",
       "dtype: int64"
      ]
     },
     "execution_count": 6,
     "metadata": {},
     "output_type": "execute_result"
    }
   ],
   "source": [
    "# Check for null values\n",
    "df.isnull().sum()"
   ]
  },
  {
   "cell_type": "code",
   "execution_count": 7,
   "metadata": {},
   "outputs": [
    {
     "data": {
      "text/plain": [
       "Company               11928\n",
       "Date                      0\n",
       "Location             113577\n",
       "Area                 187763\n",
       "Classification       113577\n",
       "SubClassification    113577\n",
       "LowestSalary              0\n",
       "HighestSalary             0\n",
       "JobType               15517\n",
       "dtype: int64"
      ]
     },
     "execution_count": 7,
     "metadata": {},
     "output_type": "execute_result"
    }
   ],
   "source": [
    "# Remove entries with null values for critical columns\n",
    "df = df.dropna(subset=['Date', 'LowestSalary', 'HighestSalary'])\n",
    "df.isnull().sum()"
   ]
  },
  {
   "cell_type": "code",
   "execution_count": 8,
   "metadata": {},
   "outputs": [
    {
     "name": "stdout",
     "output_type": "stream",
     "text": [
      "(309870, 9)\n",
      "Company              object\n",
      "Date                 object\n",
      "Location             object\n",
      "Area                 object\n",
      "Classification       object\n",
      "SubClassification    object\n",
      "LowestSalary          int64\n",
      "HighestSalary         int64\n",
      "JobType              object\n",
      "dtype: object\n"
     ]
    }
   ],
   "source": [
    "print(df.shape)\n",
    "print(df.dtypes)"
   ]
  },
  {
   "cell_type": "code",
   "execution_count": 9,
   "metadata": {},
   "outputs": [
    {
     "name": "stdout",
     "output_type": "stream",
     "text": [
      "Company                           object\n",
      "Date                 datetime64[ns, UTC]\n",
      "Location                          object\n",
      "Area                              object\n",
      "Classification                    object\n",
      "SubClassification                 object\n",
      "LowestSalary                       int64\n",
      "HighestSalary                      int64\n",
      "JobType                           object\n",
      "dtype: object\n"
     ]
    }
   ],
   "source": [
    "# Convert Date column to datetime\n",
    "df['Date']= pd.to_datetime(df['Date'])\n",
    "print(df.dtypes)\n",
    "\n",
    "# Set index of the data to be date\n",
    "df = df.set_index('Date')"
   ]
  },
  {
   "cell_type": "code",
   "execution_count": 48,
   "metadata": {},
   "outputs": [
    {
     "name": "stderr",
     "output_type": "stream",
     "text": [
      "C:\\Users\\Conno\\anaconda3\\lib\\site-packages\\pandas\\core\\arrays\\datetimes.py:1102: UserWarning: Converting to PeriodArray/Index representation will drop timezone information.\n",
      "  UserWarning,\n"
     ]
    }
   ],
   "source": [
    "# Add year and month columns\n",
    "df['Year'] = df.index.year\n",
    "df['Month'] = df.index.month\n",
    "df['Day'] = df.index.day\n",
    "df['Year_Month'] = df.index.to_period('M')"
   ]
  },
  {
   "cell_type": "code",
   "execution_count": 49,
   "metadata": {
    "scrolled": true
   },
   "outputs": [
    {
     "data": {
      "text/html": [
       "<div>\n",
       "<style scoped>\n",
       "    .dataframe tbody tr th:only-of-type {\n",
       "        vertical-align: middle;\n",
       "    }\n",
       "\n",
       "    .dataframe tbody tr th {\n",
       "        vertical-align: top;\n",
       "    }\n",
       "\n",
       "    .dataframe thead th {\n",
       "        text-align: right;\n",
       "    }\n",
       "</style>\n",
       "<table border=\"1\" class=\"dataframe\">\n",
       "  <thead>\n",
       "    <tr style=\"text-align: right;\">\n",
       "      <th></th>\n",
       "      <th>Company</th>\n",
       "      <th>Location</th>\n",
       "      <th>Area</th>\n",
       "      <th>Classification</th>\n",
       "      <th>SubClassification</th>\n",
       "      <th>LowestSalary</th>\n",
       "      <th>HighestSalary</th>\n",
       "      <th>JobType</th>\n",
       "      <th>Year</th>\n",
       "      <th>Month</th>\n",
       "      <th>Year_Month</th>\n",
       "      <th>AverageSalary</th>\n",
       "      <th>RangeSalary</th>\n",
       "      <th>Day</th>\n",
       "    </tr>\n",
       "    <tr>\n",
       "      <th>Date</th>\n",
       "      <th></th>\n",
       "      <th></th>\n",
       "      <th></th>\n",
       "      <th></th>\n",
       "      <th></th>\n",
       "      <th></th>\n",
       "      <th></th>\n",
       "      <th></th>\n",
       "      <th></th>\n",
       "      <th></th>\n",
       "      <th></th>\n",
       "      <th></th>\n",
       "      <th></th>\n",
       "      <th></th>\n",
       "    </tr>\n",
       "  </thead>\n",
       "  <tbody>\n",
       "    <tr>\n",
       "      <th>2018-10-07 00:00:00+00:00</th>\n",
       "      <td>Aldi Stores</td>\n",
       "      <td>Sydney</td>\n",
       "      <td>North West &amp; Hills District</td>\n",
       "      <td>Retail &amp; Consumer Products</td>\n",
       "      <td>Retail Assistants</td>\n",
       "      <td>0</td>\n",
       "      <td>30</td>\n",
       "      <td>NaN</td>\n",
       "      <td>2018</td>\n",
       "      <td>10</td>\n",
       "      <td>2018-10</td>\n",
       "      <td>15.0</td>\n",
       "      <td>30</td>\n",
       "      <td>7</td>\n",
       "    </tr>\n",
       "    <tr>\n",
       "      <th>2018-10-07 00:00:00+00:00</th>\n",
       "      <td>Aldi Stores</td>\n",
       "      <td>Richmond &amp; Hawkesbury</td>\n",
       "      <td>NaN</td>\n",
       "      <td>Retail &amp; Consumer Products</td>\n",
       "      <td>Retail Assistants</td>\n",
       "      <td>0</td>\n",
       "      <td>30</td>\n",
       "      <td>NaN</td>\n",
       "      <td>2018</td>\n",
       "      <td>10</td>\n",
       "      <td>2018-10</td>\n",
       "      <td>15.0</td>\n",
       "      <td>30</td>\n",
       "      <td>7</td>\n",
       "    </tr>\n",
       "    <tr>\n",
       "      <th>2018-10-07 00:00:00+00:00</th>\n",
       "      <td>LB Creative Pty Ltd</td>\n",
       "      <td>Brisbane</td>\n",
       "      <td>CBD &amp; Inner Suburbs</td>\n",
       "      <td>Retail &amp; Consumer Products</td>\n",
       "      <td>Retail Assistants</td>\n",
       "      <td>0</td>\n",
       "      <td>30</td>\n",
       "      <td>NaN</td>\n",
       "      <td>2018</td>\n",
       "      <td>10</td>\n",
       "      <td>2018-10</td>\n",
       "      <td>15.0</td>\n",
       "      <td>30</td>\n",
       "      <td>7</td>\n",
       "    </tr>\n",
       "    <tr>\n",
       "      <th>2018-10-07 00:00:00+00:00</th>\n",
       "      <td>Anaconda Group Pty Ltd</td>\n",
       "      <td>Gosford &amp; Central Coast</td>\n",
       "      <td>NaN</td>\n",
       "      <td>Retail &amp; Consumer Products</td>\n",
       "      <td>Retail Assistants</td>\n",
       "      <td>0</td>\n",
       "      <td>30</td>\n",
       "      <td>NaN</td>\n",
       "      <td>2018</td>\n",
       "      <td>10</td>\n",
       "      <td>2018-10</td>\n",
       "      <td>15.0</td>\n",
       "      <td>30</td>\n",
       "      <td>7</td>\n",
       "    </tr>\n",
       "    <tr>\n",
       "      <th>2018-10-07 00:00:00+00:00</th>\n",
       "      <td>Commonwealth Bank - Business &amp; Private Banking</td>\n",
       "      <td>Sydney</td>\n",
       "      <td>Ryde &amp; Macquarie Park</td>\n",
       "      <td>Call Centre &amp; Customer Service</td>\n",
       "      <td>Sales - Inbound</td>\n",
       "      <td>0</td>\n",
       "      <td>30</td>\n",
       "      <td>NaN</td>\n",
       "      <td>2018</td>\n",
       "      <td>10</td>\n",
       "      <td>2018-10</td>\n",
       "      <td>15.0</td>\n",
       "      <td>30</td>\n",
       "      <td>7</td>\n",
       "    </tr>\n",
       "  </tbody>\n",
       "</table>\n",
       "</div>"
      ],
      "text/plain": [
       "                                                                  Company  \\\n",
       "Date                                                                        \n",
       "2018-10-07 00:00:00+00:00                                     Aldi Stores   \n",
       "2018-10-07 00:00:00+00:00                                     Aldi Stores   \n",
       "2018-10-07 00:00:00+00:00                             LB Creative Pty Ltd   \n",
       "2018-10-07 00:00:00+00:00                          Anaconda Group Pty Ltd   \n",
       "2018-10-07 00:00:00+00:00  Commonwealth Bank - Business & Private Banking   \n",
       "\n",
       "                                          Location  \\\n",
       "Date                                                 \n",
       "2018-10-07 00:00:00+00:00                   Sydney   \n",
       "2018-10-07 00:00:00+00:00    Richmond & Hawkesbury   \n",
       "2018-10-07 00:00:00+00:00                 Brisbane   \n",
       "2018-10-07 00:00:00+00:00  Gosford & Central Coast   \n",
       "2018-10-07 00:00:00+00:00                   Sydney   \n",
       "\n",
       "                                                  Area  \\\n",
       "Date                                                     \n",
       "2018-10-07 00:00:00+00:00  North West & Hills District   \n",
       "2018-10-07 00:00:00+00:00                          NaN   \n",
       "2018-10-07 00:00:00+00:00          CBD & Inner Suburbs   \n",
       "2018-10-07 00:00:00+00:00                          NaN   \n",
       "2018-10-07 00:00:00+00:00        Ryde & Macquarie Park   \n",
       "\n",
       "                                           Classification  SubClassification  \\\n",
       "Date                                                                           \n",
       "2018-10-07 00:00:00+00:00      Retail & Consumer Products  Retail Assistants   \n",
       "2018-10-07 00:00:00+00:00      Retail & Consumer Products  Retail Assistants   \n",
       "2018-10-07 00:00:00+00:00      Retail & Consumer Products  Retail Assistants   \n",
       "2018-10-07 00:00:00+00:00      Retail & Consumer Products  Retail Assistants   \n",
       "2018-10-07 00:00:00+00:00  Call Centre & Customer Service    Sales - Inbound   \n",
       "\n",
       "                           LowestSalary  HighestSalary JobType  Year  Month  \\\n",
       "Date                                                                          \n",
       "2018-10-07 00:00:00+00:00             0             30     NaN  2018     10   \n",
       "2018-10-07 00:00:00+00:00             0             30     NaN  2018     10   \n",
       "2018-10-07 00:00:00+00:00             0             30     NaN  2018     10   \n",
       "2018-10-07 00:00:00+00:00             0             30     NaN  2018     10   \n",
       "2018-10-07 00:00:00+00:00             0             30     NaN  2018     10   \n",
       "\n",
       "                          Year_Month  AverageSalary  RangeSalary  Day  \n",
       "Date                                                                   \n",
       "2018-10-07 00:00:00+00:00    2018-10           15.0           30    7  \n",
       "2018-10-07 00:00:00+00:00    2018-10           15.0           30    7  \n",
       "2018-10-07 00:00:00+00:00    2018-10           15.0           30    7  \n",
       "2018-10-07 00:00:00+00:00    2018-10           15.0           30    7  \n",
       "2018-10-07 00:00:00+00:00    2018-10           15.0           30    7  "
      ]
     },
     "execution_count": 49,
     "metadata": {},
     "output_type": "execute_result"
    }
   ],
   "source": [
    "# Create extra column with average salary (combined lowest/highest)\n",
    "df['AverageSalary'] = df[['LowestSalary','HighestSalary']].mean(axis=1)\n",
    "\n",
    "# Create extra column with salary range (highest-lowest)\n",
    "df['RangeSalary'] = df['HighestSalary'] - df['LowestSalary']\n",
    "\n",
    "df.head()"
   ]
  },
  {
   "cell_type": "markdown",
   "metadata": {},
   "source": [
    "# Part 2 - Data Analysis and Interpretation"
   ]
  },
  {
   "cell_type": "markdown",
   "metadata": {},
   "source": [
    "## 2.1 - Metadata"
   ]
  },
  {
   "cell_type": "code",
   "execution_count": 64,
   "metadata": {},
   "outputs": [
    {
     "data": {
      "image/png": "[encoded data removed]",
      "text/plain": [
       "<Figure size 864x576 with 1 Axes>"
      ]
     },
     "metadata": {
      "needs_background": "light"
     },
     "output_type": "display_data"
    }
   ],
   "source": [
    "data = df['AverageSalary']\n",
    "bins = np.arange(0, 601, step=20)\n",
    "plt.figure(figsize=(12,8))\n",
    "plt.hist(data, bins, edgecolor=\"k\", alpha=1)\n",
    "plt.xticks(bins)\n",
    "plt.xlabel(\"Average Salary $\", labelpad=20, weight='bold', size=12) \n",
    "plt.ylabel(\"Frequency\", labelpad=20, weight='bold', size=12)\n",
    "plt.title(\"Histogram of Average Salary Listings\")\n",
    "plt.show()"
   ]
  },
  {
   "cell_type": "code",
   "execution_count": 20,
   "metadata": {},
   "outputs": [
    {
     "data": {
      "image/png": "[encoded data removed]",
      "text/plain": [
       "<Figure size 864x576 with 1 Axes>"
      ]
     },
     "metadata": {
      "needs_background": "light"
     },
     "output_type": "display_data"
    }
   ],
   "source": [
    "plt.figure(figsize=(12,8))\n",
    "sns.boxplot(data=df, x='Year_Month', y='AverageSalary')\n",
    "plt.title(\"Average Salary By Month\")\n",
    "plt.show()"
   ]
  },
  {
   "cell_type": "code",
   "execution_count": 50,
   "metadata": {},
   "outputs": [
    {
     "data": {
      "image/png": "[encoded data removed]",
      "text/plain": [
       "<Figure size 864x576 with 1 Axes>"
      ]
     },
     "metadata": {
      "needs_background": "light"
     },
     "output_type": "display_data"
    }
   ],
   "source": [
    "plt.figure(figsize=(12,8))\n",
    "df.groupby(\"Year_Month\")['AverageSalary'].count().plot()\n",
    "plt.ylabel(\"Number of Job Listings\")\n",
    "plt.title(\"Number of Job Listings Each Month\")\n",
    "plt.show()"
   ]
  },
  {
   "cell_type": "code",
   "execution_count": 53,
   "metadata": {},
   "outputs": [
    {
     "data": {
      "image/png": "[encoded data removed]",
      "text/plain": [
       "<Figure size 864x576 with 1 Axes>"
      ]
     },
     "metadata": {
      "needs_background": "light"
     },
     "output_type": "display_data"
    }
   ],
   "source": [
    "plt.figure(figsize=(12,8))\n",
    "df.groupby(\"Day\")['AverageSalary'].count().plot()\n",
    "plt.ylabel(\"Number of Job Listings\")\n",
    "plt.title(\"Number of Job Listings Monthly Seasonality\")\n",
    "plt.show()"
   ]
  },
  {
   "cell_type": "markdown",
   "metadata": {},
   "source": [
    "## 2.2 - Locations"
   ]
  },
  {
   "cell_type": "code",
   "execution_count": 58,
   "metadata": {},
   "outputs": [],
   "source": [
    "# Group dataset by location and find mean lowest/highest salary + count (for total job listings)\n",
    "df_location = df.groupby('Location').agg(['mean', 'count'])"
   ]
  },
  {
   "cell_type": "code",
   "execution_count": 15,
   "metadata": {},
   "outputs": [
    {
     "data": {
      "text/plain": [
       "Location\n",
       "Sydney                                  60462\n",
       "Melbourne                               46483\n",
       "Brisbane                                21350\n",
       "Perth                                   13161\n",
       "Adelaide                                 6611\n",
       "                                        ...  \n",
       "Yorke Peninsula & Clare Valley             94\n",
       "Tumut, Snowy & Monaro                      86\n",
       "Somerset & Lockyer                         65\n",
       "Fleurieu Peninsula & Kangaroo Island       64\n",
       "Central & South East TAS                   57\n",
       "Name: count, Length: 65, dtype: int64"
      ]
     },
     "execution_count": 15,
     "metadata": {},
     "output_type": "execute_result"
    }
   ],
   "source": [
    "# Count total number of jobs at each location\n",
    "df_location['AverageSalary']['count'].sort_values(ascending=False)"
   ]
  },
  {
   "cell_type": "code",
   "execution_count": 16,
   "metadata": {
    "scrolled": true
   },
   "outputs": [
    {
     "data": {
      "text/plain": [
       "Location\n",
       "ACT                                     142.680119\n",
       "Port Macquarie & Mid North Coast        110.806624\n",
       "Sydney                                  103.278687\n",
       "Geraldton, Gascoyne & Midwest           101.887574\n",
       "Western QLD                             101.743191\n",
       "                                           ...    \n",
       "Mornington Peninsula & Bass Coast        58.860354\n",
       "Riverland & Murray Mallee                56.746575\n",
       "Yarra Valley & High Country              56.557114\n",
       "Adelaide Hills & Barossa                 55.069948\n",
       "Fleurieu Peninsula & Kangaroo Island     50.546875\n",
       "Name: mean, Length: 65, dtype: float64"
      ]
     },
     "execution_count": 16,
     "metadata": {},
     "output_type": "execute_result"
    }
   ],
   "source": [
    "# Average salary for each location\n",
    "df_location['AverageSalary']['mean'].sort_values(ascending=False)"
   ]
  },
  {
   "cell_type": "code",
   "execution_count": 70,
   "metadata": {},
   "outputs": [],
   "source": [
    "df_ACT = df.loc[df['Location'] == \"ACT\"]\n",
    "df_Kangaroo = df.loc[df['Location'] == \"Fleurieu Peninsula & Kangaroo Island\"]"
   ]
  },
  {
   "cell_type": "code",
   "execution_count": 71,
   "metadata": {},
   "outputs": [
    {
     "data": {
      "text/plain": [
       "Information & Communication Technology    2056\n",
       "Government & Defence                       578\n",
       "Healthcare & Medical                       372\n",
       "Trades & Services                          362\n",
       "Hospitality & Tourism                      326\n",
       "Administration & Office Support            319\n",
       "Education & Training                       288\n",
       "Retail & Consumer Products                 253\n",
       "Construction                               211\n",
       "Accounting                                 180\n",
       "Engineering                                175\n",
       "Manufacturing, Transport & Logistics       170\n",
       "Marketing & Communications                 126\n",
       "Human Resources & Recruitment              105\n",
       "Sales                                      102\n",
       "Legal                                      100\n",
       "Community Services & Development            77\n",
       "Real Estate & Property                      71\n",
       "Consulting & Strategy                       51\n",
       "Call Centre & Customer Service              49\n",
       "Banking & Financial Services                47\n",
       "Design & Architecture                       47\n",
       "Science & Technology                        32\n",
       "Sport & Recreation                          28\n",
       "CEO & General Management                    22\n",
       "Advertising, Arts & Media                   22\n",
       "Insurance & Superannuation                  19\n",
       "Mining, Resources & Energy                   9\n",
       "Farming, Animals & Conservation              5\n",
       "Self Employment                              5\n",
       "Name: Classification, dtype: int64"
      ]
     },
     "execution_count": 71,
     "metadata": {},
     "output_type": "execute_result"
    }
   ],
   "source": [
    "df_ACT[\"Classification\"].value_counts()"
   ]
  },
  {
   "cell_type": "code",
   "execution_count": 72,
   "metadata": {},
   "outputs": [
    {
     "data": {
      "text/plain": [
       "Other                                 570\n",
       "Government - Federal                  382\n",
       "Developers/Programmers                288\n",
       "Programme & Project Management        251\n",
       "Business/Systems Analysts             239\n",
       "                                     ... \n",
       "Teaching Aides & Special Needs          1\n",
       "Sales - Inbound                         1\n",
       "Conservation, Parks & Wildlife          1\n",
       "Insolvency & Corporate Recovery         1\n",
       "Mining - Engineering & Maintenance      1\n",
       "Name: SubClassification, Length: 277, dtype: int64"
      ]
     },
     "execution_count": 72,
     "metadata": {},
     "output_type": "execute_result"
    }
   ],
   "source": [
    "df_ACT[\"SubClassification\"].value_counts()"
   ]
  },
  {
   "cell_type": "code",
   "execution_count": 74,
   "metadata": {},
   "outputs": [
    {
     "data": {
      "text/plain": [
       "Hospitality & Tourism                   20\n",
       "Healthcare & Medical                    16\n",
       "Trades & Services                        7\n",
       "Banking & Financial Services             3\n",
       "Manufacturing, Transport & Logistics     3\n",
       "Farming, Animals & Conservation          2\n",
       "Community Services & Development         2\n",
       "Government & Defence                     2\n",
       "Sport & Recreation                       2\n",
       "Administration & Office Support          1\n",
       "Retail & Consumer Products               1\n",
       "Construction                             1\n",
       "Real Estate & Property                   1\n",
       "Mining, Resources & Energy               1\n",
       "Sales                                    1\n",
       "Advertising, Arts & Media                1\n",
       "Name: Classification, dtype: int64"
      ]
     },
     "execution_count": 74,
     "metadata": {},
     "output_type": "execute_result"
    }
   ],
   "source": [
    "df_Kangaroo[\"Classification\"].value_counts()"
   ]
  },
  {
   "cell_type": "code",
   "execution_count": 75,
   "metadata": {},
   "outputs": [
    {
     "data": {
      "text/plain": [
       "Chefs/Cooks                                     9\n",
       "Other                                           6\n",
       "Nursing - Aged Care                             6\n",
       "Banking - Retail/Branch                         3\n",
       "Bar & Beverage Staff                            3\n",
       "Cleaning Services                               2\n",
       "Nursing - Management                            2\n",
       "Waiting Staff                                   2\n",
       "Physiotherapy, OT & Rehabilitation              2\n",
       "Automotive Trades                               2\n",
       "Management                                      2\n",
       "Farm Management                                 1\n",
       "Coaching & Instruction                          1\n",
       "Surveying                                       1\n",
       "Agronomy & Farm Services                        1\n",
       "Employment Services                             1\n",
       "Front Office & Guest Services                   1\n",
       "Nursing - General Medical & Surgical            1\n",
       "Warehousing, Storage & Distribution             1\n",
       "Administrative Assistants                       1\n",
       "Sales Representatives/Consultants               1\n",
       "Government - State                              1\n",
       "Machine Operators                               1\n",
       "Government - Local                              1\n",
       "Administration                                  1\n",
       "Nursing - Community, Maternal & Child Health    1\n",
       "Assembly & Process Work                         1\n",
       "Fitness & Personal Training                     1\n",
       "Journalism & Writing                            1\n",
       "Aged & Disability Support                       1\n",
       "Travel Agents/Consultants                       1\n",
       "Housekeeping                                    1\n",
       "Mining - Operations                             1\n",
       "Labourers                                       1\n",
       "Air Conditioning & Refrigeration                1\n",
       "Management - Store                              1\n",
       "Name: SubClassification, dtype: int64"
      ]
     },
     "execution_count": 75,
     "metadata": {},
     "output_type": "execute_result"
    }
   ],
   "source": [
    "df_Kangaroo[\"SubClassification\"].value_counts()"
   ]
  },
  {
   "cell_type": "markdown",
   "metadata": {},
   "source": [
    "# 2.3 - Sectors"
   ]
  },
  {
   "cell_type": "code",
   "execution_count": 83,
   "metadata": {},
   "outputs": [],
   "source": [
    "df_classification = df.groupby('Classification').agg(['mean', 'count'])"
   ]
  },
  {
   "cell_type": "code",
   "execution_count": 84,
   "metadata": {},
   "outputs": [
    {
     "data": {
      "text/plain": [
       "Classification\n",
       "Information & Communication Technology    22715\n",
       "Trades & Services                         17929\n",
       "Healthcare & Medical                      17023\n",
       "Hospitality & Tourism                     15498\n",
       "Manufacturing, Transport & Logistics      12339\n",
       "Administration & Office Support            9991\n",
       "Accounting                                 9348\n",
       "Education & Training                       9151\n",
       "Construction                               8349\n",
       "Sales                                      8092\n",
       "Retail & Consumer Products                 8010\n",
       "Government & Defence                       7200\n",
       "Engineering                                6436\n",
       "Mining, Resources & Energy                 6269\n",
       "Banking & Financial Services               4616\n",
       "Community Services & Development           4464\n",
       "Legal                                      4227\n",
       "Human Resources & Recruitment              4121\n",
       "Marketing & Communications                 3964\n",
       "Call Centre & Customer Service             3951\n",
       "Real Estate & Property                     3601\n",
       "Design & Architecture                      1807\n",
       "Insurance & Superannuation                 1465\n",
       "Consulting & Strategy                      1197\n",
       "Sport & Recreation                          982\n",
       "Science & Technology                        905\n",
       "Farming, Animals & Conservation             881\n",
       "CEO & General Management                    840\n",
       "Advertising, Arts & Media                   829\n",
       "Self Employment                              93\n",
       "Name: count, dtype: int64"
      ]
     },
     "execution_count": 84,
     "metadata": {},
     "output_type": "execute_result"
    }
   ],
   "source": [
    "# Count total number of jobs in each sector\n",
    "df_classification['AverageSalary']['count'].sort_values(ascending=False)"
   ]
  },
  {
   "cell_type": "code",
   "execution_count": 85,
   "metadata": {},
   "outputs": [
    {
     "data": {
      "text/plain": [
       "Classification\n",
       "CEO & General Management                  255.188095\n",
       "Information & Communication Technology    182.465573\n",
       "Consulting & Strategy                     157.849206\n",
       "Mining, Resources & Energy                128.655926\n",
       "Construction                              126.522877\n",
       "Legal                                     122.315117\n",
       "Engineering                               121.043583\n",
       "Healthcare & Medical                      117.323680\n",
       "Banking & Financial Services              111.079073\n",
       "Government & Defence                      103.776181\n",
       "Science & Technology                      101.107182\n",
       "Self Employment                            91.387097\n",
       "Human Resources & Recruitment              89.377214\n",
       "Design & Architecture                      89.162977\n",
       "Accounting                                 87.603445\n",
       "Insurance & Superannuation                 86.648464\n",
       "Marketing & Communications                 84.601160\n",
       "Sales                                      82.254758\n",
       "Real Estate & Property                     79.444876\n",
       "Education & Training                       72.327068\n",
       "Advertising, Arts & Media                  69.095899\n",
       "Sport & Recreation                         59.310591\n",
       "Manufacturing, Transport & Logistics       58.756058\n",
       "Community Services & Development           58.404346\n",
       "Farming, Animals & Conservation            57.811578\n",
       "Trades & Services                          53.412683\n",
       "Administration & Office Support            48.608247\n",
       "Call Centre & Customer Service             48.563402\n",
       "Retail & Consumer Products                 45.061610\n",
       "Hospitality & Tourism                      40.228481\n",
       "Name: mean, dtype: float64"
      ]
     },
     "execution_count": 85,
     "metadata": {},
     "output_type": "execute_result"
    }
   ],
   "source": [
    "# Average salary for each sector\n",
    "df_classification['AverageSalary']['mean'].sort_values(ascending=False)"
   ]
  },
  {
   "cell_type": "code",
   "execution_count": 87,
   "metadata": {},
   "outputs": [],
   "source": [
    "df_subclassification = df.groupby('SubClassification').agg(['mean', 'count'])"
   ]
  },
  {
   "cell_type": "code",
   "execution_count": 90,
   "metadata": {},
   "outputs": [
    {
     "data": {
      "text/plain": [
       "SubClassification\n",
       "Other                         11212\n",
       "Management                     6221\n",
       "Chefs/Cooks                    4593\n",
       "Administrative Assistants      4562\n",
       "Developers/Programmers         4194\n",
       "                              ...  \n",
       "Modelling & Simulation           14\n",
       "Computer Operators               13\n",
       "Air Force                        12\n",
       "Chiropractic & Osteopathic       11\n",
       "Army                              5\n",
       "Name: count, Length: 338, dtype: int64"
      ]
     },
     "execution_count": 90,
     "metadata": {},
     "output_type": "execute_result"
    }
   ],
   "source": [
    "# Count total number of jobs in each subsector\n",
    "df_subclassification['AverageSalary']['count'].sort_values(ascending=False)"
   ]
  },
  {
   "cell_type": "code",
   "execution_count": 91,
   "metadata": {},
   "outputs": [
    {
     "data": {
      "text/plain": [
       "SubClassification\n",
       "General Practitioners       411.490461\n",
       "Medical Specialists         367.765814\n",
       "COO & MD                    343.392157\n",
       "CEO                         311.245399\n",
       "Architects                  282.069715\n",
       "                               ...    \n",
       "Housekeeping                 37.813853\n",
       "Pickers & Packers            37.722772\n",
       "Kitchen & Sandwich Hands     35.564037\n",
       "Bar & Beverage Staff         35.367505\n",
       "Waiting Staff                34.685140\n",
       "Name: mean, Length: 338, dtype: float64"
      ]
     },
     "execution_count": 91,
     "metadata": {},
     "output_type": "execute_result"
    }
   ],
   "source": [
    "# Average salary for each subsector\n",
    "df_subclassification['AverageSalary']['mean'].sort_values(ascending=False)"
   ]
  },
  {
   "cell_type": "code",
   "execution_count": 101,
   "metadata": {},
   "outputs": [
    {
     "data": {
      "text/plain": [
       "General/Business Unit Manager    516\n",
       "CEO                              163\n",
       "Other                             86\n",
       "COO & MD                          51\n",
       "Board Appointments                24\n",
       "Name: SubClassification, dtype: int64"
      ]
     },
     "execution_count": 101,
     "metadata": {},
     "output_type": "execute_result"
    }
   ],
   "source": [
    "df[df['Classification'] == 'CEO & General Management']['SubClassification'].value_counts()"
   ]
  },
  {
   "cell_type": "code",
   "execution_count": 102,
   "metadata": {},
   "outputs": [
    {
     "data": {
      "text/plain": [
       "Developers/Programmers                   4194\n",
       "Business/Systems Analysts                2965\n",
       "Programme & Project Management           2407\n",
       "Architects                               1542\n",
       "Engineering - Software                   1432\n",
       "Help Desk & IT Support                   1372\n",
       "Networks & Systems Administration        1192\n",
       "Consultants                              1145\n",
       "Other                                     996\n",
       "Testing & Quality Assurance               827\n",
       "Security                                  774\n",
       "Management                                745\n",
       "Engineering - Network                     551\n",
       "Database Development & Administration     548\n",
       "Web Development & Production              452\n",
       "Sales - Pre & Post                        446\n",
       "Product Management & Development          376\n",
       "Telecommunications                        353\n",
       "Team Leaders                              173\n",
       "Engineering - Hardware                    116\n",
       "Technical Writing                          96\n",
       "Computer Operators                         13\n",
       "Name: SubClassification, dtype: int64"
      ]
     },
     "execution_count": 102,
     "metadata": {},
     "output_type": "execute_result"
    }
   ],
   "source": [
    "df[df['Classification'] == 'Information & Communication Technology']['SubClassification'].value_counts()"
   ]
  }
 ],
 "metadata": {
  "kernelspec": {
   "display_name": "Python 3",
   "language": "python",
   "name": "python3"
  },
  "language_info": {
   "codemirror_mode": {
    "name": "ipython",
    "version": 3
   },
   "file_extension": ".py",
   "mimetype": "text/x-python",
   "name": "python",
   "nbconvert_exporter": "python",
   "pygments_lexer": "ipython3",
   "version": "3.7.6"
  }
 },
 "nbformat": 4,
 "nbformat_minor": 2
}
