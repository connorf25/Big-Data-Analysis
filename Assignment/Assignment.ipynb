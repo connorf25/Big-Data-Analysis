{
 "cells": [
  {
   "cell_type": "code",
   "execution_count": 1,
   "metadata": {},
   "outputs": [],
   "source": [
    "import pandas as pd\n",
    "import matplotlib.pyplot as plt\n",
    "import seaborn as sns"
   ]
  },
  {
   "cell_type": "code",
   "execution_count": 2,
   "metadata": {},
   "outputs": [
    {
     "name": "stderr",
     "output_type": "stream",
     "text": [
      "C:\\Users\\Connor\\Anaconda3\\lib\\site-packages\\IPython\\core\\interactiveshell.py:3049: DtypeWarning: Columns (0,4,5,6,7) have mixed types. Specify dtype option on import or set low_memory=False.\n",
      "  interactivity=interactivity, compiler=compiler, result=result)\n"
     ]
    },
    {
     "data": {
      "text/html": [
       "<div>\n",
       "<style scoped>\n",
       "    .dataframe tbody tr th:only-of-type {\n",
       "        vertical-align: middle;\n",
       "    }\n",
       "\n",
       "    .dataframe tbody tr th {\n",
       "        vertical-align: top;\n",
       "    }\n",
       "\n",
       "    .dataframe thead th {\n",
       "        text-align: right;\n",
       "    }\n",
       "</style>\n",
       "<table border=\"1\" class=\"dataframe\">\n",
       "  <thead>\n",
       "    <tr style=\"text-align: right;\">\n",
       "      <th></th>\n",
       "      <th>Id</th>\n",
       "      <th>Title</th>\n",
       "      <th>Company</th>\n",
       "      <th>Date</th>\n",
       "      <th>Location</th>\n",
       "      <th>Area</th>\n",
       "      <th>Classification</th>\n",
       "      <th>SubClassification</th>\n",
       "      <th>Requirement</th>\n",
       "      <th>FullDescription</th>\n",
       "      <th>LowestSalary</th>\n",
       "      <th>HighestSalary</th>\n",
       "      <th>JobType</th>\n",
       "    </tr>\n",
       "  </thead>\n",
       "  <tbody>\n",
       "    <tr>\n",
       "      <th>0</th>\n",
       "      <td>37404348</td>\n",
       "      <td>Casual Stock Replenisher</td>\n",
       "      <td>Aldi Stores</td>\n",
       "      <td>2018-10-07T00:00:00.000Z</td>\n",
       "      <td>Sydney</td>\n",
       "      <td>North West &amp; Hills District</td>\n",
       "      <td>Retail &amp; Consumer Products</td>\n",
       "      <td>Retail Assistants</td>\n",
       "      <td>Our Casual Stock Replenishers pride themselves...</td>\n",
       "      <td>NaN</td>\n",
       "      <td>0</td>\n",
       "      <td>30</td>\n",
       "      <td>NaN</td>\n",
       "    </tr>\n",
       "    <tr>\n",
       "      <th>1</th>\n",
       "      <td>37404337</td>\n",
       "      <td>Casual Stock Replenisher</td>\n",
       "      <td>Aldi Stores</td>\n",
       "      <td>2018-10-07T00:00:00.000Z</td>\n",
       "      <td>Richmond &amp; Hawkesbury</td>\n",
       "      <td>NaN</td>\n",
       "      <td>Retail &amp; Consumer Products</td>\n",
       "      <td>Retail Assistants</td>\n",
       "      <td>Our Casual Stock Replenishers pride themselves...</td>\n",
       "      <td>NaN</td>\n",
       "      <td>0</td>\n",
       "      <td>30</td>\n",
       "      <td>NaN</td>\n",
       "    </tr>\n",
       "    <tr>\n",
       "      <th>2</th>\n",
       "      <td>37404356</td>\n",
       "      <td>RETAIL SALES SUPERSTARS and STYLISTS Wanted - ...</td>\n",
       "      <td>LB Creative Pty Ltd</td>\n",
       "      <td>2018-10-07T00:00:00.000Z</td>\n",
       "      <td>Brisbane</td>\n",
       "      <td>CBD &amp; Inner Suburbs</td>\n",
       "      <td>Retail &amp; Consumer Products</td>\n",
       "      <td>Retail Assistants</td>\n",
       "      <td>BRAND NEW FLAGSHIP STORE OPENING - SUNSHINE PLAZA</td>\n",
       "      <td>NaN</td>\n",
       "      <td>0</td>\n",
       "      <td>30</td>\n",
       "      <td>NaN</td>\n",
       "    </tr>\n",
       "    <tr>\n",
       "      <th>3</th>\n",
       "      <td>37404330</td>\n",
       "      <td>Team member - Belrose</td>\n",
       "      <td>Anaconda Group Pty Ltd</td>\n",
       "      <td>2018-10-07T00:00:00.000Z</td>\n",
       "      <td>Gosford &amp; Central Coast</td>\n",
       "      <td>NaN</td>\n",
       "      <td>Retail &amp; Consumer Products</td>\n",
       "      <td>Retail Assistants</td>\n",
       "      <td>Bring it on - do you love the great outdoors a...</td>\n",
       "      <td>NaN</td>\n",
       "      <td>0</td>\n",
       "      <td>30</td>\n",
       "      <td>NaN</td>\n",
       "    </tr>\n",
       "    <tr>\n",
       "      <th>4</th>\n",
       "      <td>37404308</td>\n",
       "      <td>Business Banking Contact Centre Specialist, Ni...</td>\n",
       "      <td>Commonwealth Bank - Business &amp; Private Banking</td>\n",
       "      <td>2018-10-07T00:00:00.000Z</td>\n",
       "      <td>Sydney</td>\n",
       "      <td>Ryde &amp; Macquarie Park</td>\n",
       "      <td>Call Centre &amp; Customer Service</td>\n",
       "      <td>Sales - Inbound</td>\n",
       "      <td>We are seeking highly articulate, enthusiastic...</td>\n",
       "      <td>NaN</td>\n",
       "      <td>0</td>\n",
       "      <td>30</td>\n",
       "      <td>NaN</td>\n",
       "    </tr>\n",
       "  </tbody>\n",
       "</table>\n",
       "</div>"
      ],
      "text/plain": [
       "         Id                                              Title  \\\n",
       "0  37404348                           Casual Stock Replenisher   \n",
       "1  37404337                           Casual Stock Replenisher   \n",
       "2  37404356  RETAIL SALES SUPERSTARS and STYLISTS Wanted - ...   \n",
       "3  37404330                              Team member - Belrose   \n",
       "4  37404308  Business Banking Contact Centre Specialist, Ni...   \n",
       "\n",
       "                                          Company                      Date  \\\n",
       "0                                     Aldi Stores  2018-10-07T00:00:00.000Z   \n",
       "1                                     Aldi Stores  2018-10-07T00:00:00.000Z   \n",
       "2                             LB Creative Pty Ltd  2018-10-07T00:00:00.000Z   \n",
       "3                          Anaconda Group Pty Ltd  2018-10-07T00:00:00.000Z   \n",
       "4  Commonwealth Bank - Business & Private Banking  2018-10-07T00:00:00.000Z   \n",
       "\n",
       "                  Location                         Area  \\\n",
       "0                   Sydney  North West & Hills District   \n",
       "1    Richmond & Hawkesbury                          NaN   \n",
       "2                 Brisbane          CBD & Inner Suburbs   \n",
       "3  Gosford & Central Coast                          NaN   \n",
       "4                   Sydney        Ryde & Macquarie Park   \n",
       "\n",
       "                   Classification  SubClassification  \\\n",
       "0      Retail & Consumer Products  Retail Assistants   \n",
       "1      Retail & Consumer Products  Retail Assistants   \n",
       "2      Retail & Consumer Products  Retail Assistants   \n",
       "3      Retail & Consumer Products  Retail Assistants   \n",
       "4  Call Centre & Customer Service    Sales - Inbound   \n",
       "\n",
       "                                         Requirement FullDescription  \\\n",
       "0  Our Casual Stock Replenishers pride themselves...             NaN   \n",
       "1  Our Casual Stock Replenishers pride themselves...             NaN   \n",
       "2  BRAND NEW FLAGSHIP STORE OPENING - SUNSHINE PLAZA             NaN   \n",
       "3  Bring it on - do you love the great outdoors a...             NaN   \n",
       "4  We are seeking highly articulate, enthusiastic...             NaN   \n",
       "\n",
       "   LowestSalary  HighestSalary JobType  \n",
       "0             0             30     NaN  \n",
       "1             0             30     NaN  \n",
       "2             0             30     NaN  \n",
       "3             0             30     NaN  \n",
       "4             0             30     NaN  "
      ]
     },
     "execution_count": 2,
     "metadata": {},
     "output_type": "execute_result"
    }
   ],
   "source": [
    "df = pd.read_csv(\"data.csv\")\n",
    "df.head()"
   ]
  },
  {
   "cell_type": "code",
   "execution_count": 3,
   "metadata": {},
   "outputs": [
    {
     "data": {
      "text/plain": [
       "8607"
      ]
     },
     "execution_count": 3,
     "metadata": {},
     "output_type": "execute_result"
    }
   ],
   "source": [
    "# Check for duplicates\n",
    "df = df.drop('Id', axis=1)\n",
    "df.duplicated().sum()"
   ]
  },
  {
   "cell_type": "code",
   "execution_count": 4,
   "metadata": {},
   "outputs": [
    {
     "data": {
      "text/plain": [
       "0"
      ]
     },
     "execution_count": 4,
     "metadata": {},
     "output_type": "execute_result"
    }
   ],
   "source": [
    "# Remove Duplicates\n",
    "df = df.drop_duplicates()\n",
    "df.duplicated().sum()"
   ]
  },
  {
   "cell_type": "code",
   "execution_count": 5,
   "metadata": {},
   "outputs": [
    {
     "data": {
      "text/html": [
       "<div>\n",
       "<style scoped>\n",
       "    .dataframe tbody tr th:only-of-type {\n",
       "        vertical-align: middle;\n",
       "    }\n",
       "\n",
       "    .dataframe tbody tr th {\n",
       "        vertical-align: top;\n",
       "    }\n",
       "\n",
       "    .dataframe thead th {\n",
       "        text-align: right;\n",
       "    }\n",
       "</style>\n",
       "<table border=\"1\" class=\"dataframe\">\n",
       "  <thead>\n",
       "    <tr style=\"text-align: right;\">\n",
       "      <th></th>\n",
       "      <th>Company</th>\n",
       "      <th>Date</th>\n",
       "      <th>Location</th>\n",
       "      <th>Area</th>\n",
       "      <th>Classification</th>\n",
       "      <th>SubClassification</th>\n",
       "      <th>LowestSalary</th>\n",
       "      <th>HighestSalary</th>\n",
       "      <th>JobType</th>\n",
       "    </tr>\n",
       "  </thead>\n",
       "  <tbody>\n",
       "    <tr>\n",
       "      <th>0</th>\n",
       "      <td>Aldi Stores</td>\n",
       "      <td>2018-10-07T00:00:00.000Z</td>\n",
       "      <td>Sydney</td>\n",
       "      <td>North West &amp; Hills District</td>\n",
       "      <td>Retail &amp; Consumer Products</td>\n",
       "      <td>Retail Assistants</td>\n",
       "      <td>0</td>\n",
       "      <td>30</td>\n",
       "      <td>NaN</td>\n",
       "    </tr>\n",
       "    <tr>\n",
       "      <th>1</th>\n",
       "      <td>Aldi Stores</td>\n",
       "      <td>2018-10-07T00:00:00.000Z</td>\n",
       "      <td>Richmond &amp; Hawkesbury</td>\n",
       "      <td>NaN</td>\n",
       "      <td>Retail &amp; Consumer Products</td>\n",
       "      <td>Retail Assistants</td>\n",
       "      <td>0</td>\n",
       "      <td>30</td>\n",
       "      <td>NaN</td>\n",
       "    </tr>\n",
       "    <tr>\n",
       "      <th>2</th>\n",
       "      <td>LB Creative Pty Ltd</td>\n",
       "      <td>2018-10-07T00:00:00.000Z</td>\n",
       "      <td>Brisbane</td>\n",
       "      <td>CBD &amp; Inner Suburbs</td>\n",
       "      <td>Retail &amp; Consumer Products</td>\n",
       "      <td>Retail Assistants</td>\n",
       "      <td>0</td>\n",
       "      <td>30</td>\n",
       "      <td>NaN</td>\n",
       "    </tr>\n",
       "    <tr>\n",
       "      <th>3</th>\n",
       "      <td>Anaconda Group Pty Ltd</td>\n",
       "      <td>2018-10-07T00:00:00.000Z</td>\n",
       "      <td>Gosford &amp; Central Coast</td>\n",
       "      <td>NaN</td>\n",
       "      <td>Retail &amp; Consumer Products</td>\n",
       "      <td>Retail Assistants</td>\n",
       "      <td>0</td>\n",
       "      <td>30</td>\n",
       "      <td>NaN</td>\n",
       "    </tr>\n",
       "    <tr>\n",
       "      <th>4</th>\n",
       "      <td>Commonwealth Bank - Business &amp; Private Banking</td>\n",
       "      <td>2018-10-07T00:00:00.000Z</td>\n",
       "      <td>Sydney</td>\n",
       "      <td>Ryde &amp; Macquarie Park</td>\n",
       "      <td>Call Centre &amp; Customer Service</td>\n",
       "      <td>Sales - Inbound</td>\n",
       "      <td>0</td>\n",
       "      <td>30</td>\n",
       "      <td>NaN</td>\n",
       "    </tr>\n",
       "  </tbody>\n",
       "</table>\n",
       "</div>"
      ],
      "text/plain": [
       "                                          Company                      Date  \\\n",
       "0                                     Aldi Stores  2018-10-07T00:00:00.000Z   \n",
       "1                                     Aldi Stores  2018-10-07T00:00:00.000Z   \n",
       "2                             LB Creative Pty Ltd  2018-10-07T00:00:00.000Z   \n",
       "3                          Anaconda Group Pty Ltd  2018-10-07T00:00:00.000Z   \n",
       "4  Commonwealth Bank - Business & Private Banking  2018-10-07T00:00:00.000Z   \n",
       "\n",
       "                  Location                         Area  \\\n",
       "0                   Sydney  North West & Hills District   \n",
       "1    Richmond & Hawkesbury                          NaN   \n",
       "2                 Brisbane          CBD & Inner Suburbs   \n",
       "3  Gosford & Central Coast                          NaN   \n",
       "4                   Sydney        Ryde & Macquarie Park   \n",
       "\n",
       "                   Classification  SubClassification  LowestSalary  \\\n",
       "0      Retail & Consumer Products  Retail Assistants             0   \n",
       "1      Retail & Consumer Products  Retail Assistants             0   \n",
       "2      Retail & Consumer Products  Retail Assistants             0   \n",
       "3      Retail & Consumer Products  Retail Assistants             0   \n",
       "4  Call Centre & Customer Service    Sales - Inbound             0   \n",
       "\n",
       "   HighestSalary JobType  \n",
       "0             30     NaN  \n",
       "1             30     NaN  \n",
       "2             30     NaN  \n",
       "3             30     NaN  \n",
       "4             30     NaN  "
      ]
     },
     "execution_count": 5,
     "metadata": {},
     "output_type": "execute_result"
    }
   ],
   "source": [
    "# Remove columns that wont be used in analysis\n",
    "df = df.drop(['Title', 'Requirement', 'FullDescription'], axis=1)\n",
    "df.head()"
   ]
  },
  {
   "cell_type": "code",
   "execution_count": 6,
   "metadata": {},
   "outputs": [
    {
     "data": {
      "text/plain": [
       "Company               11928\n",
       "Date                      0\n",
       "Location             113577\n",
       "Area                 187763\n",
       "Classification       113577\n",
       "SubClassification    113577\n",
       "LowestSalary              0\n",
       "HighestSalary             0\n",
       "JobType               15517\n",
       "dtype: int64"
      ]
     },
     "execution_count": 6,
     "metadata": {},
     "output_type": "execute_result"
    }
   ],
   "source": [
    "# Check for null values\n",
    "df.isnull().sum()"
   ]
  },
  {
   "cell_type": "code",
   "execution_count": 7,
   "metadata": {},
   "outputs": [
    {
     "data": {
      "text/plain": [
       "Company               7397\n",
       "Date                     0\n",
       "Location                 0\n",
       "Area                 74186\n",
       "Classification           0\n",
       "SubClassification        0\n",
       "LowestSalary             0\n",
       "HighestSalary            0\n",
       "JobType              11384\n",
       "dtype: int64"
      ]
     },
     "execution_count": 7,
     "metadata": {},
     "output_type": "execute_result"
    }
   ],
   "source": [
    "# Remove entries with null values for critical columns\n",
    "df = df.dropna(subset=['Date', 'Location', 'Classification', 'SubClassification', 'LowestSalary', 'HighestSalary'])\n",
    "df.isnull().sum()"
   ]
  },
  {
   "cell_type": "code",
   "execution_count": 8,
   "metadata": {},
   "outputs": [
    {
     "name": "stdout",
     "output_type": "stream",
     "text": [
      "(196293, 9)\n",
      "Company              object\n",
      "Date                 object\n",
      "Location             object\n",
      "Area                 object\n",
      "Classification       object\n",
      "SubClassification    object\n",
      "LowestSalary          int64\n",
      "HighestSalary         int64\n",
      "JobType              object\n",
      "dtype: object\n"
     ]
    }
   ],
   "source": [
    "print(df.shape)\n",
    "print(df.dtypes)"
   ]
  },
  {
   "cell_type": "code",
   "execution_count": 9,
   "metadata": {},
   "outputs": [],
   "source": [
    "df['Date']= pd.to_datetime(df['Date'])"
   ]
  },
  {
   "cell_type": "code",
   "execution_count": 10,
   "metadata": {},
   "outputs": [
    {
     "name": "stdout",
     "output_type": "stream",
     "text": [
      "Company                           object\n",
      "Date                 datetime64[ns, UTC]\n",
      "Location                          object\n",
      "Area                              object\n",
      "Classification                    object\n",
      "SubClassification                 object\n",
      "LowestSalary                       int64\n",
      "HighestSalary                      int64\n",
      "JobType                           object\n",
      "dtype: object\n"
     ]
    }
   ],
   "source": [
    "print(df.dtypes)"
   ]
  },
  {
   "cell_type": "code",
   "execution_count": 16,
   "metadata": {},
   "outputs": [],
   "source": [
    "# Create extra column with average salary (combined lowest/highest)\n",
    "df['AverageSalary'] = df[['LowestSalary','HighestSalary']].mean(axis=1)\n",
    "\n",
    "# Create extra column with salary range (highest-lowest)\n",
    "df['RangeSalary'] = df['HighestSalary'] - df['LowestSalary']"
   ]
  },
  {
   "cell_type": "code",
   "execution_count": null,
   "metadata": {},
   "outputs": [],
   "source": [
    "df.hist(column='AverageSalary')"
   ]
  },
  {
   "cell_type": "code",
   "execution_count": 12,
   "metadata": {},
   "outputs": [],
   "source": [
    "# Group dataset by location and find mean lowest/highest salary + count (for total job listings)\n",
    "df_loc = df.groupby('Location').agg(['mean', 'count'])"
   ]
  },
  {
   "cell_type": "code",
   "execution_count": 13,
   "metadata": {},
   "outputs": [
    {
     "data": {
      "text/plain": [
       "Location\n",
       "Sydney                                  60462\n",
       "Melbourne                               46483\n",
       "Brisbane                                21350\n",
       "Perth                                   13161\n",
       "Adelaide                                 6611\n",
       "ACT                                      6207\n",
       "Newcastle, Maitland & Hunter             3941\n",
       "Gold Coast                               3581\n",
       "South West Coast VIC                     1785\n",
       "Mackay & Coalfields                      1699\n",
       "Wollongong, Illawarra & South Coast      1650\n",
       "Port Hedland, Karratha & Pilbara         1648\n",
       "Sunshine Coast                           1554\n",
       "Cairns & Far North                       1499\n",
       "Northern QLD                             1487\n",
       "Gosford & Central Coast                  1338\n",
       "Toowoomba & Darling Downs                1308\n",
       "Darwin                                   1251\n",
       "Hobart                                   1045\n",
       "Blue Mountains & Central West             934\n",
       "Kalgoorlie, Goldfields & Esperance        867\n",
       "Lismore & Far North Coast                 813\n",
       "Bendigo, Goldfields & Macedon Ranges      805\n",
       "Wagga Wagga & Riverina                    801\n",
       "Mornington Peninsula & Bass Coast         734\n",
       "Rockhampton & Capricorn Coast             720\n",
       "Gladstone & Central QLD                   708\n",
       "Dubbo & Central NSW                       639\n",
       "Bunbury & South West                      631\n",
       "Tamworth & North West NSW                 609\n",
       "                                        ...  \n",
       "Port Macquarie & Mid North Coast          468\n",
       "Southern Highlands & Tablelands           464\n",
       "Coffs Harbour & North Coast               438\n",
       "Albury Area                               415\n",
       "Bundaberg & Wide Bay Burnett              408\n",
       "Launceston & North East                   387\n",
       "Bairnsdale & Gippsland                    375\n",
       "Geraldton, Gascoyne & Midwest             338\n",
       "Mildura & Murray                          307\n",
       "Alice Springs & Central Australia         301\n",
       "Hervey Bay & Fraser Coast                 282\n",
       "Broome & Kimberley                        279\n",
       "Devonport & North West                    256\n",
       "Mandurah & Peel                           250\n",
       "Horsham & Grampians                       209\n",
       "Whyalla & Eyre Peninsula                  201\n",
       "Far West & North Central NSW              196\n",
       "Adelaide Hills & Barossa                  193\n",
       "Katherine & Northern Australia            184\n",
       "Mt Gambier & Limestone Coast              167\n",
       "Northam & Wheatbelt                       158\n",
       "Albany & Great Southern                   149\n",
       "Riverland & Murray Mallee                 146\n",
       "Richmond & Hawkesbury                     140\n",
       "Coober Pedy & Outback SA                  108\n",
       "Yorke Peninsula & Clare Valley             94\n",
       "Tumut, Snowy & Monaro                      86\n",
       "Somerset & Lockyer                         65\n",
       "Fleurieu Peninsula & Kangaroo Island       64\n",
       "Central & South East TAS                   57\n",
       "Name: count, Length: 65, dtype: int64"
      ]
     },
     "execution_count": 13,
     "metadata": {},
     "output_type": "execute_result"
    }
   ],
   "source": [
    "# Count total number of jobs at each location\n",
    "df_loc['AverageSalary']['count'].sort_values(ascending=False)"
   ]
  },
  {
   "cell_type": "code",
   "execution_count": 14,
   "metadata": {},
   "outputs": [
    {
     "data": {
      "text/plain": [
       "Location\n",
       "ACT                                     142.680119\n",
       "Port Macquarie & Mid North Coast        110.806624\n",
       "Sydney                                  103.278687\n",
       "Geraldton, Gascoyne & Midwest           101.887574\n",
       "Western QLD                             101.743191\n",
       "Tumut, Snowy & Monaro                   100.319767\n",
       "Port Hedland, Karratha & Pilbara         99.532767\n",
       "Katherine & Northern Australia           97.282609\n",
       "Kalgoorlie, Goldfields & Esperance       96.062860\n",
       "Darwin                                   94.444444\n",
       "Brisbane                                 93.612810\n",
       "Bundaberg & Wide Bay Burnett             92.924020\n",
       "Broome & Kimberley                       92.363799\n",
       "Perth                                    92.067054\n",
       "Mackay & Coalfields                      91.760447\n",
       "Dubbo & Central NSW                      91.726135\n",
       "Far West & North Central NSW             90.089286\n",
       "Coober Pedy & Outback SA                 89.898148\n",
       "Mildura & Murray                         89.729642\n",
       "Rockhampton & Capricorn Coast            89.286806\n",
       "Melbourne                                89.020448\n",
       "Alice Springs & Central Australia        88.916944\n",
       "Northern QLD                             86.675521\n",
       "Tamworth & North West NSW                85.776683\n",
       "Gladstone & Central QLD                  85.483051\n",
       "Blue Mountains & Central West            84.852784\n",
       "Newcastle, Maitland & Hunter             80.859427\n",
       "Mt Gambier & Limestone Coast             80.038922\n",
       "Lismore & Far North Coast                79.482780\n",
       "Albany & Great Southern                  79.345638\n",
       "                                           ...    \n",
       "West Gippsland & Latrobe Valley          75.118881\n",
       "Hobart                                   75.033971\n",
       "Cairns & Far North                       74.409273\n",
       "Horsham & Grampians                      74.318182\n",
       "Mandurah & Peel                          73.230000\n",
       "Wollongong, Illawarra & South Coast      72.692727\n",
       "Gosford & Central Coast                  71.521300\n",
       "Launceston & North East                  70.465116\n",
       "Devonport & North West                   70.378906\n",
       "Wagga Wagga & Riverina                   70.134207\n",
       "Whyalla & Eyre Peninsula                 69.990050\n",
       "Shepparton & Goulburn Valley             68.721667\n",
       "Ballarat & Central Highlands             68.711794\n",
       "Sunshine Coast                           68.252574\n",
       "Toowoomba & Darling Downs                67.142584\n",
       "Gold Coast                               66.360514\n",
       "Bunbury & South West                     65.570523\n",
       "South West Coast VIC                     65.258824\n",
       "Southern Highlands & Tablelands          65.012931\n",
       "Northam & Wheatbelt                      64.550633\n",
       "Richmond & Hawkesbury                    63.421429\n",
       "Albury Area                              63.392771\n",
       "Yorke Peninsula & Clare Valley           62.010638\n",
       "Central & South East TAS                 60.000000\n",
       "Bendigo, Goldfields & Macedon Ranges     59.711180\n",
       "Mornington Peninsula & Bass Coast        58.860354\n",
       "Riverland & Murray Mallee                56.746575\n",
       "Yarra Valley & High Country              56.557114\n",
       "Adelaide Hills & Barossa                 55.069948\n",
       "Fleurieu Peninsula & Kangaroo Island     50.546875\n",
       "Name: mean, Length: 65, dtype: float64"
      ]
     },
     "execution_count": 14,
     "metadata": {},
     "output_type": "execute_result"
    }
   ],
   "source": [
    "# Average salary for each location\n",
    "df_loc['AverageSalary']['mean'].sort_values(ascending=False)"
   ]
  }
 ],
 "metadata": {
  "kernelspec": {
   "display_name": "Python 3",
   "language": "python",
   "name": "python3"
  },
  "language_info": {
   "codemirror_mode": {
    "name": "ipython",
    "version": 3
   },
   "file_extension": ".py",
   "mimetype": "text/x-python",
   "name": "python",
   "nbconvert_exporter": "python",
   "pygments_lexer": "ipython3",
   "version": "3.7.3"
  }
 },
 "nbformat": 4,
 "nbformat_minor": 2
}
